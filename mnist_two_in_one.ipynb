{
  "nbformat": 4,
  "nbformat_minor": 0,
  "metadata": {
    "colab": {
      "name": "Transfer learning MNIST using MobileNet.ipynb",
      "provenance": [],
      "collapsed_sections": [],
      "include_colab_link": true
    },
    "kernelspec": {
      "name": "python3",
      "display_name": "Python 3"
    },
    "accelerator": "GPU"
  },
  "cells": [
    {
      "cell_type": "markdown",
      "metadata": {
        "id": "view-in-github",
        "colab_type": "text"
      },
      "source": [
        "<a href=\"https://colab.research.google.com/github/suyashss/nn_test/blob/master/mnist_two_in_one.ipynb\" target=\"_parent\"><img src=\"https://colab.research.google.com/assets/colab-badge.svg\" alt=\"Open In Colab\"/></a>"
      ]
    },
    {
      "cell_type": "code",
      "metadata": {
        "id": "iZOYbXKVcWTG",
        "colab_type": "code",
        "colab": {
          "base_uri": "https://localhost:8080/",
          "height": 34
        },
        "outputId": "25a4fa79-89d2-4e07-e933-bdc545d47eb5"
      },
      "source": [
        "import tensorflow as tf\n",
        "device_name = tf.test.gpu_device_name()\n",
        "if device_name != '/device:GPU:0':\n",
        "  raise SystemError('GPU device not found')\n",
        "print('Found GPU at: {}'.format(device_name))"
      ],
      "execution_count": null,
      "outputs": [
        {
          "output_type": "stream",
          "text": [
            "Found GPU at: /device:GPU:0\n"
          ],
          "name": "stdout"
        }
      ]
    },
    {
      "cell_type": "code",
      "metadata": {
        "id": "DkbZvREZdRNu",
        "colab_type": "code",
        "colab": {}
      },
      "source": [
        "import tensorflow.keras as keras"
      ],
      "execution_count": null,
      "outputs": []
    },
    {
      "cell_type": "code",
      "metadata": {
        "id": "LNnXld79ayfh",
        "colab_type": "code",
        "colab": {}
      },
      "source": [
        "import matplotlib.pyplot as plt"
      ],
      "execution_count": null,
      "outputs": []
    },
    {
      "cell_type": "code",
      "metadata": {
        "id": "vpSbI7Wods9K",
        "colab_type": "code",
        "colab": {}
      },
      "source": [
        "import numpy as np\n",
        "import skimage\n",
        "from skimage.transform import resize"
      ],
      "execution_count": null,
      "outputs": []
    },
    {
      "cell_type": "code",
      "metadata": {
        "id": "PJDy7kfUeUt8",
        "colab_type": "code",
        "colab": {}
      },
      "source": [
        "image_size = 96"
      ],
      "execution_count": null,
      "outputs": []
    },
    {
      "cell_type": "code",
      "metadata": {
        "id": "3ott1TrUZVfu",
        "colab_type": "code",
        "colab": {}
      },
      "source": [
        "def resize_image(x):\n",
        "  temp_im = np.pad(x.reshape((28,28,1)),((0,image_size-28),(0,image_size-28),(0,2)),'constant')\n",
        "  return temp_im"
      ],
      "execution_count": null,
      "outputs": []
    },
    {
      "cell_type": "code",
      "metadata": {
        "id": "kkYN7ZdjkuaM",
        "colab_type": "code",
        "colab": {}
      },
      "source": [
        ""
      ],
      "execution_count": null,
      "outputs": []
    },
    {
      "cell_type": "code",
      "metadata": {
        "id": "Uz822WdW3ZqY",
        "colab_type": "code",
        "colab": {}
      },
      "source": [
        "def get_images_and_labels(fname,n,resize=image_size):\n",
        "  df = np.loadtxt(fname,delimiter=\",\")[:n,]\n",
        "  train_labels = [x[0] for x in df]\n",
        "  train_data = np.zeros((df.shape[0],image_size,image_size,3))\n",
        "  for idx,x in enumerate(df):\n",
        "    train_data[idx,:,:,:]=resize_image(x[1:df.shape[1]])\n",
        "  print(train_data.shape)\n",
        "  return train_data,train_labels"
      ],
      "execution_count": null,
      "outputs": []
    },
    {
      "cell_type": "code",
      "metadata": {
        "id": "wyqnW9Gb24hq",
        "colab_type": "code",
        "colab": {
          "base_uri": "https://localhost:8080/",
          "height": 34
        },
        "outputId": "a19b3730-a8a4-4c0d-e7cb-864f2035543e"
      },
      "source": [
        "train_data,train_labels = get_images_and_labels(\"sample_data/mnist_train_small.csv\",20000)"
      ],
      "execution_count": null,
      "outputs": [
        {
          "output_type": "stream",
          "text": [
            "(20000, 96, 96, 3)\n"
          ],
          "name": "stdout"
        }
      ]
    },
    {
      "cell_type": "code",
      "metadata": {
        "id": "8qmwUXsBcSH6",
        "colab_type": "code",
        "colab": {
          "base_uri": "https://localhost:8080/",
          "height": 54
        },
        "outputId": "7df3b6c9-3935-4574-8636-5594aea6d7b5"
      },
      "source": [
        "print(np.unique(train_labels,return_counts=True))"
      ],
      "execution_count": null,
      "outputs": [
        {
          "output_type": "stream",
          "text": [
            "(array([0., 1., 2., 3., 4., 5., 6., 7., 8., 9.]), array([1962, 2243, 1989, 2021, 1924, 1761, 2039, 2126, 1912, 2023]))\n"
          ],
          "name": "stdout"
        }
      ]
    },
    {
      "cell_type": "markdown",
      "metadata": {
        "id": "xcxmq0K7vRkf",
        "colab_type": "text"
      },
      "source": [
        "# New Section"
      ]
    },
    {
      "cell_type": "code",
      "metadata": {
        "id": "h1muz-tzlIGc",
        "colab_type": "code",
        "colab": {
          "base_uri": "https://localhost:8080/",
          "height": 320
        },
        "outputId": "83849ccd-30ba-46fd-d793-1a850e1637a5"
      },
      "source": [
        "idx = np.random.randint(train_data.shape[0])\n",
        "print(idx)\n",
        "print(train_labels[idx])\n",
        "plt.imshow(train_data[idx,:,:,1].squeeze())"
      ],
      "execution_count": null,
      "outputs": [
        {
          "output_type": "stream",
          "text": [
            "8264\n",
            "6.0\n"
          ],
          "name": "stdout"
        },
        {
          "output_type": "execute_result",
          "data": {
            "text/plain": [
              "<matplotlib.image.AxesImage at 0x7f887bcf3e80>"
            ]
          },
          "metadata": {
            "tags": []
          },
          "execution_count": 10
        },
        {
          "output_type": "display_data",
          "data": {
            "image/png": "[encoded data removed]",
            "text/plain": [
              "<Figure size 432x288 with 1 Axes>"
            ]
          },
          "metadata": {
            "tags": []
          }
        }
      ]
    },
    {
      "cell_type": "code",
      "metadata": {
        "id": "4n90TF28eeaJ",
        "colab_type": "code",
        "colab": {
          "base_uri": "https://localhost:8080/",
          "height": 34
        },
        "outputId": "ac0b97de-e2d2-472c-b005-afdba2ea167d"
      },
      "source": [
        "test_data,test_labels = get_images_and_labels(\"sample_data/mnist_test.csv\",5000)"
      ],
      "execution_count": null,
      "outputs": [
        {
          "output_type": "stream",
          "text": [
            "(5000, 96, 96, 3)\n"
          ],
          "name": "stdout"
        }
      ]
    },
    {
      "cell_type": "code",
      "metadata": {
        "id": "ooGM-F84cZ8N",
        "colab_type": "code",
        "colab": {
          "base_uri": "https://localhost:8080/",
          "height": 34
        },
        "outputId": "1be66bb0-13b9-4194-a848-f1615ae0feae"
      },
      "source": [
        "print(np.unique(test_labels,return_counts=True))"
      ],
      "execution_count": null,
      "outputs": [
        {
          "output_type": "stream",
          "text": [
            "(array([0., 1., 2., 3., 4., 5., 6., 7., 8., 9.]), array([460, 571, 530, 500, 500, 456, 462, 512, 489, 520]))\n"
          ],
          "name": "stdout"
        }
      ]
    },
    {
      "cell_type": "code",
      "metadata": {
        "id": "6MtvycibfwIO",
        "colab_type": "code",
        "colab": {
          "base_uri": "https://localhost:8080/",
          "height": 320
        },
        "outputId": "351d3318-ba16-4c01-cd81-05b58016e336"
      },
      "source": [
        "idx = np.random.randint(train_data.shape[0])\n",
        "print(idx)\n",
        "print(train_labels[idx])\n",
        "plt.imshow(train_data[idx,:,:,1].squeeze())"
      ],
      "execution_count": null,
      "outputs": [
        {
          "output_type": "stream",
          "text": [
            "260\n",
            "5.0\n"
          ],
          "name": "stdout"
        },
        {
          "output_type": "execute_result",
          "data": {
            "text/plain": [
              "<matplotlib.image.AxesImage at 0x7f8879c657b8>"
            ]
          },
          "metadata": {
            "tags": []
          },
          "execution_count": 13
        },
        {
          "output_type": "display_data",
          "data": {
            "image/png": "[encoded data removed]",
            "text/plain": [
              "<Figure size 432x288 with 1 Axes>"
            ]
          },
          "metadata": {
            "tags": []
          }
        }
      ]
    },
    {
      "cell_type": "code",
      "metadata": {
        "id": "mxp6TDL0hH0a",
        "colab_type": "code",
        "colab": {}
      },
      "source": [
        "#image_size = 160 # All images will be resized\n",
        "batch_size = 32\n",
        "\n",
        "# Rescale all images by 1./255 and apply image augmentation\n",
        "train_datagen = keras.preprocessing.image.ImageDataGenerator(\n",
        "                rescale=1./255,)\n",
        "\n",
        "validation_datagen = keras.preprocessing.image.ImageDataGenerator(rescale=1./255)\n"
      ],
      "execution_count": null,
      "outputs": []
    },
    {
      "cell_type": "code",
      "metadata": {
        "id": "mrxHpnnseC-t",
        "colab_type": "code",
        "colab": {}
      },
      "source": [
        "train_labels_categorical = keras.utils.to_categorical(train_labels,10)\n",
        "test_labels_categorical = keras.utils.to_categorical(test_labels,10)"
      ],
      "execution_count": null,
      "outputs": []
    },
    {
      "cell_type": "code",
      "metadata": {
        "id": "gCS81sYKhlb0",
        "colab_type": "code",
        "colab": {}
      },
      "source": [
        "train_generator = train_datagen.flow(x=train_data,y=train_labels_categorical,)"
      ],
      "execution_count": null,
      "outputs": []
    },
    {
      "cell_type": "code",
      "metadata": {
        "id": "NYypxJfuiiLd",
        "colab_type": "code",
        "colab": {}
      },
      "source": [
        "validation_generator = validation_datagen.flow(x=test_data,y=test_labels_categorical)"
      ],
      "execution_count": null,
      "outputs": []
    },
    {
      "cell_type": "code",
      "metadata": {
        "id": "YF3dh7Gmja3z",
        "colab_type": "code",
        "colab": {
          "base_uri": "https://localhost:8080/",
          "height": 122
        },
        "outputId": "a890abbe-9257-4939-9dd2-2e7035d9d375"
      },
      "source": [
        "IMG_SHAPE = (image_size, image_size, 3)\n",
        "\n",
        "# Create the base model from the pre-trained model MobileNet V2\n",
        "base_model = tf.keras.applications.MobileNetV2(input_shape=IMG_SHAPE,\n",
        "                                               include_top=False, \n",
        "                                               weights='imagenet')"
      ],
      "execution_count": null,
      "outputs": [
        {
          "output_type": "stream",
          "text": [
            "WARNING:tensorflow:From /usr/local/lib/python3.6/dist-packages/tensorflow/python/ops/resource_variable_ops.py:435: colocate_with (from tensorflow.python.framework.ops) is deprecated and will be removed in a future version.\n",
            "Instructions for updating:\n",
            "Colocations handled automatically by placer.\n",
            "Downloading data from https://github.com/JonathanCMitchell/mobilenet_v2_keras/releases/download/v1.1/mobilenet_v2_weights_tf_dim_ordering_tf_kernels_1.0_96_no_top.h5\n",
            "9412608/9406464 [==============================] - 0s 0us/step\n"
          ],
          "name": "stdout"
        }
      ]
    },
    {
      "cell_type": "code",
      "metadata": {
        "id": "A0NKfU5Zl-K8",
        "colab_type": "code",
        "colab": {}
      },
      "source": [
        "base_model.trainable = False"
      ],
      "execution_count": null,
      "outputs": []
    },
    {
      "cell_type": "code",
      "metadata": {
        "id": "xdN5fqVUcHUH",
        "colab_type": "code",
        "colab": {}
      },
      "source": [
        "#base_model.summary()"
      ],
      "execution_count": null,
      "outputs": []
    },
    {
      "cell_type": "code",
      "metadata": {
        "id": "ubKeMB1PcJLF",
        "colab_type": "code",
        "colab": {}
      },
      "source": [
        "model = tf.keras.Sequential([\n",
        "  base_model,\n",
        "  keras.layers.GlobalAveragePooling2D(),\n",
        "  keras.layers.Dense(10, activation='sigmoid')\n",
        "])"
      ],
      "execution_count": null,
      "outputs": []
    },
    {
      "cell_type": "code",
      "metadata": {
        "id": "-CtBTksscipA",
        "colab_type": "code",
        "colab": {}
      },
      "source": [
        "model.compile(optimizer=tf.keras.optimizers.RMSprop(lr=0.00001), \n",
        "              loss='categorical_crossentropy', \n",
        "              metrics=['accuracy'])"
      ],
      "execution_count": null,
      "outputs": []
    },
    {
      "cell_type": "code",
      "metadata": {
        "id": "Hx-ETJywcsv7",
        "colab_type": "code",
        "colab": {
          "base_uri": "https://localhost:8080/",
          "height": 238
        },
        "outputId": "862ea779-c669-44e1-a688-33d61993fe17"
      },
      "source": [
        "model.summary()"
      ],
      "execution_count": null,
      "outputs": [
        {
          "output_type": "stream",
          "text": [
            "_________________________________________________________________\n",
            "Layer (type)                 Output Shape              Param #   \n",
            "=================================================================\n",
            "mobilenetv2_1.00_96 (Model)  (None, 3, 3, 1280)        2257984   \n",
            "_________________________________________________________________\n",
            "global_average_pooling2d (Gl (None, 1280)              0         \n",
            "_________________________________________________________________\n",
            "dense (Dense)                (None, 10)                12810     \n",
            "=================================================================\n",
            "Total params: 2,270,794\n",
            "Trainable params: 12,810\n",
            "Non-trainable params: 2,257,984\n",
            "_________________________________________________________________\n"
          ],
          "name": "stdout"
        }
      ]
    },
    {
      "cell_type": "code",
      "metadata": {
        "id": "xoSnBrolcuPv",
        "colab_type": "code",
        "colab": {
          "base_uri": "https://localhost:8080/",
          "height": 34
        },
        "outputId": "79377773-9d28-41fe-f690-163e1ba15648"
      },
      "source": [
        "len(model.trainable_variables)"
      ],
      "execution_count": null,
      "outputs": [
        {
          "output_type": "execute_result",
          "data": {
            "text/plain": [
              "2"
            ]
          },
          "metadata": {
            "tags": []
          },
          "execution_count": 24
        }
      ]
    },
    {
      "cell_type": "code",
      "metadata": {
        "id": "JtcvtH1hc1Lo",
        "colab_type": "code",
        "colab": {
          "base_uri": "https://localhost:8080/",
          "height": 1108
        },
        "outputId": "677df810-1e6e-44bd-b74f-cda35b848c94"
      },
      "source": [
        "epochs = 20\n",
        "steps_per_epoch = train_generator.n // batch_size\n",
        "validation_steps = validation_generator.n // batch_size\n",
        "\n",
        "history = model.fit_generator(train_generator, \n",
        "                              steps_per_epoch = steps_per_epoch,\n",
        "                              epochs=epochs, \n",
        "                              workers=4,\n",
        "                              validation_data=validation_generator, \n",
        "                              validation_steps=validation_steps)"
      ],
      "execution_count": null,
      "outputs": [
        {
          "output_type": "stream",
          "text": [
            "WARNING:tensorflow:From /usr/local/lib/python3.6/dist-packages/tensorflow/python/ops/math_ops.py:3066: to_int32 (from tensorflow.python.ops.math_ops) is deprecated and will be removed in a future version.\n",
            "Instructions for updating:\n",
            "Use tf.cast instead.\n",
            "Epoch 1/20\n",
            "157/157 [==============================] - 6s 41ms/step - loss: 2.3713 - acc: 0.0988\n",
            "625/625 [==============================] - 38s 62ms/step - loss: 2.2781 - acc: 0.1486 - val_loss: 2.3713 - val_acc: 0.0988\n",
            "Epoch 2/20\n",
            "157/157 [==============================] - 6s 37ms/step - loss: 2.4152 - acc: 0.1844\n",
            "625/625 [==============================] - 32s 51ms/step - loss: 2.1384 - acc: 0.2290 - val_loss: 2.4152 - val_acc: 0.1844\n",
            "Epoch 3/20\n",
            "157/157 [==============================] - 6s 37ms/step - loss: 2.4963 - acc: 0.1094\n",
            "625/625 [==============================] - 32s 50ms/step - loss: 2.0007 - acc: 0.3039 - val_loss: 2.4963 - val_acc: 0.1094\n",
            "Epoch 4/20\n",
            "157/157 [==============================] - 6s 37ms/step - loss: 2.6309 - acc: 0.1326\n",
            "625/625 [==============================] - 32s 51ms/step - loss: 1.8616 - acc: 0.3750 - val_loss: 2.6309 - val_acc: 0.1326\n",
            "Epoch 5/20\n",
            "157/157 [==============================] - 6s 37ms/step - loss: 2.5767 - acc: 0.2034\n",
            "625/625 [==============================] - 32s 51ms/step - loss: 1.7307 - acc: 0.4250 - val_loss: 2.5767 - val_acc: 0.2034\n",
            "Epoch 6/20\n",
            "157/157 [==============================] - 6s 37ms/step - loss: 2.5054 - acc: 0.1432\n",
            "625/625 [==============================] - 32s 52ms/step - loss: 1.6192 - acc: 0.4751 - val_loss: 2.5054 - val_acc: 0.1432\n",
            "Epoch 7/20\n",
            "157/157 [==============================] - 6s 36ms/step - loss: 2.2750 - acc: 0.2408\n",
            "625/625 [==============================] - 32s 51ms/step - loss: 1.5233 - acc: 0.5060 - val_loss: 2.2750 - val_acc: 0.2408\n",
            "Epoch 8/20\n",
            "157/157 [==============================] - 6s 38ms/step - loss: 2.3000 - acc: 0.2536\n",
            "625/625 [==============================] - 34s 54ms/step - loss: 1.4461 - acc: 0.5296 - val_loss: 2.3000 - val_acc: 0.2536\n",
            "Epoch 9/20\n",
            "157/157 [==============================] - 6s 37ms/step - loss: 2.1565 - acc: 0.2826\n",
            "625/625 [==============================] - 32s 51ms/step - loss: 1.3787 - acc: 0.5535 - val_loss: 2.1565 - val_acc: 0.2826\n",
            "Epoch 10/20\n",
            "157/157 [==============================] - 6s 37ms/step - loss: 2.1134 - acc: 0.2630\n",
            "625/625 [==============================] - 32s 51ms/step - loss: 1.3261 - acc: 0.5731 - val_loss: 2.1134 - val_acc: 0.2630\n",
            "Epoch 11/20\n",
            "157/157 [==============================] - 6s 38ms/step - loss: 1.8666 - acc: 0.3568\n",
            "625/625 [==============================] - 32s 51ms/step - loss: 1.2715 - acc: 0.5864 - val_loss: 1.8666 - val_acc: 0.3568\n",
            "Epoch 12/20\n",
            "157/157 [==============================] - 6s 37ms/step - loss: 1.8856 - acc: 0.3630\n",
            "625/625 [==============================] - 32s 51ms/step - loss: 1.2379 - acc: 0.6000 - val_loss: 1.8856 - val_acc: 0.3630\n",
            "Epoch 13/20\n",
            "157/157 [==============================] - 6s 38ms/step - loss: 1.6428 - acc: 0.4152\n",
            "625/625 [==============================] - 33s 52ms/step - loss: 1.1991 - acc: 0.6098 - val_loss: 1.6428 - val_acc: 0.4152\n",
            "Epoch 14/20\n",
            "157/157 [==============================] - 6s 37ms/step - loss: 1.4477 - acc: 0.4872\n",
            "625/625 [==============================] - 32s 51ms/step - loss: 1.1683 - acc: 0.6198 - val_loss: 1.4477 - val_acc: 0.4872\n",
            "Epoch 15/20\n",
            "157/157 [==============================] - 6s 37ms/step - loss: 1.1941 - acc: 0.6042\n",
            "625/625 [==============================] - 32s 51ms/step - loss: 1.1467 - acc: 0.6295 - val_loss: 1.1941 - val_acc: 0.6042\n",
            "Epoch 16/20\n",
            "157/157 [==============================] - 6s 38ms/step - loss: 1.1192 - acc: 0.6344\n",
            "625/625 [==============================] - 32s 51ms/step - loss: 1.1136 - acc: 0.6373 - val_loss: 1.1192 - val_acc: 0.6344\n",
            "Epoch 17/20\n",
            "157/157 [==============================] - 6s 40ms/step - loss: 1.1078 - acc: 0.6340\n",
            "625/625 [==============================] - 34s 55ms/step - loss: 1.0924 - acc: 0.6443 - val_loss: 1.1078 - val_acc: 0.6340\n",
            "Epoch 18/20\n",
            "157/157 [==============================] - 6s 38ms/step - loss: 1.1111 - acc: 0.6306\n",
            "625/625 [==============================] - 33s 53ms/step - loss: 1.0773 - acc: 0.6497 - val_loss: 1.1111 - val_acc: 0.6306\n",
            "Epoch 19/20\n",
            "157/157 [==============================] - 6s 38ms/step - loss: 1.0982 - acc: 0.6348\n",
            "625/625 [==============================] - 32s 52ms/step - loss: 1.0525 - acc: 0.6584 - val_loss: 1.0982 - val_acc: 0.6348\n",
            "Epoch 20/20\n",
            "157/157 [==============================] - 6s 37ms/step - loss: 1.0853 - acc: 0.6400\n",
            "625/625 [==============================] - 32s 51ms/step - loss: 1.0417 - acc: 0.6623 - val_loss: 1.0853 - val_acc: 0.6400\n"
          ],
          "name": "stdout"
        }
      ]
    },
    {
      "cell_type": "code",
      "metadata": {
        "id": "v_QDLWLNc4i8",
        "colab_type": "code",
        "colab": {
          "base_uri": "https://localhost:8080/",
          "height": 499
        },
        "outputId": "9ca92d33-11f1-4db2-8984-adc2ec1b9679"
      },
      "source": [
        "acc = history.history['acc']\n",
        "val_acc = history.history['val_acc']\n",
        "\n",
        "loss = history.history['loss']\n",
        "val_loss = history.history['val_loss']\n",
        "\n",
        "plt.figure(figsize=(8, 8))\n",
        "plt.subplot(2, 1, 1)\n",
        "plt.plot(acc, label='Training Accuracy')\n",
        "plt.plot(val_acc, label='Validation Accuracy')\n",
        "plt.legend(loc='lower right')\n",
        "plt.ylabel('Accuracy')\n",
        "plt.ylim([min(plt.ylim()),1])\n",
        "plt.title('Training and Validation Accuracy')\n",
        "\n",
        "plt.subplot(2, 1, 2)\n",
        "plt.plot(loss, label='Training Loss')\n",
        "plt.plot(val_loss, label='Validation Loss')\n",
        "plt.legend(loc='upper right')\n",
        "plt.ylabel('Cross Entropy')\n",
        "plt.ylim([0,max(plt.ylim())])\n",
        "plt.title('Training and Validation Loss')\n",
        "plt.show()"
      ],
      "execution_count": null,
      "outputs": [
        {
          "output_type": "display_data",
          "data": {
            "image/png": "[encoded data removed]",
            "text/plain": [
              "<Figure size 576x576 with 2 Axes>"
            ]
          },
          "metadata": {
            "tags": []
          }
        }
      ]
    },
    {
      "cell_type": "code",
      "metadata": {
        "id": "sXL_MQ0De2Jb",
        "colab_type": "code",
        "colab": {}
      },
      "source": [
        "base_model.trainable = True"
      ],
      "execution_count": null,
      "outputs": []
    },
    {
      "cell_type": "code",
      "metadata": {
        "id": "wZ_1n42VqUgU",
        "colab_type": "code",
        "colab": {
          "base_uri": "https://localhost:8080/",
          "height": 34
        },
        "outputId": "8c9a39fc-41b4-4229-d103-8c7fc536c569"
      },
      "source": [
        "# Let's take a look to see how many layers are in the base model\n",
        "print(\"Number of layers in the base model: \", len(base_model.layers))\n",
        "\n",
        "# Fine tune from this layer onwards\n",
        "fine_tune_at = 100\n",
        "\n",
        "# Freeze all the layers before the `fine_tune_at` layer\n",
        "for layer in base_model.layers[:fine_tune_at]:\n",
        "  layer.trainable =  False"
      ],
      "execution_count": null,
      "outputs": [
        {
          "output_type": "stream",
          "text": [
            "Number of layers in the base model:  155\n"
          ],
          "name": "stdout"
        }
      ]
    },
    {
      "cell_type": "code",
      "metadata": {
        "id": "EGgRGy_MqW2X",
        "colab_type": "code",
        "colab": {}
      },
      "source": [
        "model.compile(loss='categorical_crossentropy',\n",
        "              optimizer = tf.keras.optimizers.RMSprop(lr=2e-5),\n",
        "              metrics=['accuracy'])"
      ],
      "execution_count": null,
      "outputs": []
    },
    {
      "cell_type": "code",
      "metadata": {
        "id": "QO2QQW6Tqb2r",
        "colab_type": "code",
        "colab": {
          "base_uri": "https://localhost:8080/",
          "height": 238
        },
        "outputId": "17a7bce6-a31a-4559-cd8a-bba845eb83de"
      },
      "source": [
        "model.summary()"
      ],
      "execution_count": null,
      "outputs": [
        {
          "output_type": "stream",
          "text": [
            "_________________________________________________________________\n",
            "Layer (type)                 Output Shape              Param #   \n",
            "=================================================================\n",
            "mobilenetv2_1.00_96 (Model)  (None, 3, 3, 1280)        2257984   \n",
            "_________________________________________________________________\n",
            "global_average_pooling2d (Gl (None, 1280)              0         \n",
            "_________________________________________________________________\n",
            "dense (Dense)                (None, 10)                12810     \n",
            "=================================================================\n",
            "Total params: 2,270,794\n",
            "Trainable params: 1,875,402\n",
            "Non-trainable params: 395,392\n",
            "_________________________________________________________________\n"
          ],
          "name": "stdout"
        }
      ]
    },
    {
      "cell_type": "code",
      "metadata": {
        "id": "ivvaJMrFqeM5",
        "colab_type": "code",
        "colab": {
          "base_uri": "https://localhost:8080/",
          "height": 34
        },
        "outputId": "674ac7f1-c6ef-428b-b8aa-015cfb4398f4"
      },
      "source": [
        "len(model.trainable_variables)"
      ],
      "execution_count": null,
      "outputs": [
        {
          "output_type": "execute_result",
          "data": {
            "text/plain": [
              "58"
            ]
          },
          "metadata": {
            "tags": []
          },
          "execution_count": 31
        }
      ]
    },
    {
      "cell_type": "code",
      "metadata": {
        "id": "pjMTqFbMqhpK",
        "colab_type": "code",
        "colab": {
          "base_uri": "https://localhost:8080/",
          "height": 1057
        },
        "outputId": "ece281b8-1037-48e4-85e9-df7b6a13db74"
      },
      "source": [
        "epochs2=20\n",
        "history_fine = model.fit_generator(train_generator, \n",
        "                                   steps_per_epoch = steps_per_epoch,\n",
        "                                   epochs=epochs2, \n",
        "                                   workers=4,\n",
        "                                   validation_data=validation_generator, \n",
        "                                   validation_steps=validation_steps)"
      ],
      "execution_count": null,
      "outputs": [
        {
          "output_type": "stream",
          "text": [
            "Epoch 1/20\n",
            "157/157 [==============================] - 6s 36ms/step - loss: 0.6072 - acc: 0.8006\n",
            "625/625 [==============================] - 44s 70ms/step - loss: 0.6849 - acc: 0.7742 - val_loss: 0.6072 - val_acc: 0.8006\n",
            "Epoch 2/20\n",
            "157/157 [==============================] - 5s 32ms/step - loss: 0.4868 - acc: 0.8344\n",
            "625/625 [==============================] - 41s 65ms/step - loss: 0.4294 - acc: 0.8569 - val_loss: 0.4868 - val_acc: 0.8344\n",
            "Epoch 3/20\n",
            "157/157 [==============================] - 5s 32ms/step - loss: 0.4361 - acc: 0.8550\n",
            "625/625 [==============================] - 41s 65ms/step - loss: 0.3190 - acc: 0.8938 - val_loss: 0.4361 - val_acc: 0.8550\n",
            "Epoch 4/20\n",
            "157/157 [==============================] - 5s 32ms/step - loss: 0.3626 - acc: 0.8798\n",
            "625/625 [==============================] - 41s 65ms/step - loss: 0.2574 - acc: 0.9127 - val_loss: 0.3626 - val_acc: 0.8798\n",
            "Epoch 5/20\n",
            "157/157 [==============================] - 5s 32ms/step - loss: 0.3676 - acc: 0.8812\n",
            "625/625 [==============================] - 41s 66ms/step - loss: 0.2174 - acc: 0.9285 - val_loss: 0.3676 - val_acc: 0.8812\n",
            "Epoch 6/20\n",
            "157/157 [==============================] - 5s 32ms/step - loss: 0.3454 - acc: 0.8896\n",
            "625/625 [==============================] - 40s 65ms/step - loss: 0.1829 - acc: 0.9383 - val_loss: 0.3454 - val_acc: 0.8896\n",
            "Epoch 7/20\n",
            "157/157 [==============================] - 5s 32ms/step - loss: 0.3220 - acc: 0.9008\n",
            "625/625 [==============================] - 40s 65ms/step - loss: 0.1540 - acc: 0.9495 - val_loss: 0.3220 - val_acc: 0.9008\n",
            "Epoch 8/20\n",
            "157/157 [==============================] - 5s 31ms/step - loss: 0.3455 - acc: 0.8898\n",
            "625/625 [==============================] - 41s 65ms/step - loss: 0.1298 - acc: 0.9563 - val_loss: 0.3455 - val_acc: 0.8898\n",
            "Epoch 9/20\n",
            "157/157 [==============================] - 5s 32ms/step - loss: 0.3125 - acc: 0.9014\n",
            "625/625 [==============================] - 40s 64ms/step - loss: 0.1203 - acc: 0.9592 - val_loss: 0.3125 - val_acc: 0.9014\n",
            "Epoch 10/20\n",
            "157/157 [==============================] - 5s 32ms/step - loss: 0.3195 - acc: 0.9004\n",
            "625/625 [==============================] - 40s 64ms/step - loss: 0.1014 - acc: 0.9661 - val_loss: 0.3195 - val_acc: 0.9004\n",
            "Epoch 11/20\n",
            "157/157 [==============================] - 5s 32ms/step - loss: 0.3713 - acc: 0.8868\n",
            "625/625 [==============================] - 40s 64ms/step - loss: 0.0894 - acc: 0.9713 - val_loss: 0.3713 - val_acc: 0.8868\n",
            "Epoch 12/20\n",
            "157/157 [==============================] - 5s 34ms/step - loss: 0.3136 - acc: 0.9046\n",
            "625/625 [==============================] - 41s 65ms/step - loss: 0.0784 - acc: 0.9755 - val_loss: 0.3136 - val_acc: 0.9046\n",
            "Epoch 13/20\n",
            "157/157 [==============================] - 5s 32ms/step - loss: 0.3297 - acc: 0.9002\n",
            "625/625 [==============================] - 41s 66ms/step - loss: 0.0695 - acc: 0.9766 - val_loss: 0.3297 - val_acc: 0.9002\n",
            "Epoch 14/20\n",
            "157/157 [==============================] - 5s 32ms/step - loss: 0.3178 - acc: 0.9056\n",
            "625/625 [==============================] - 40s 65ms/step - loss: 0.0627 - acc: 0.9800 - val_loss: 0.3178 - val_acc: 0.9056\n",
            "Epoch 15/20\n",
            "157/157 [==============================] - 5s 33ms/step - loss: 0.3296 - acc: 0.9090\n",
            "625/625 [==============================] - 41s 65ms/step - loss: 0.0566 - acc: 0.9822 - val_loss: 0.3296 - val_acc: 0.9090\n",
            "Epoch 16/20\n",
            "157/157 [==============================] - 5s 32ms/step - loss: 0.3376 - acc: 0.9082\n",
            "625/625 [==============================] - 41s 65ms/step - loss: 0.0486 - acc: 0.9846 - val_loss: 0.3376 - val_acc: 0.9082\n",
            "Epoch 17/20\n",
            "157/157 [==============================] - 5s 32ms/step - loss: 0.3273 - acc: 0.9096\n",
            "625/625 [==============================] - 41s 65ms/step - loss: 0.0492 - acc: 0.9838 - val_loss: 0.3273 - val_acc: 0.9096\n",
            "Epoch 18/20\n",
            "157/157 [==============================] - 5s 32ms/step - loss: 0.3426 - acc: 0.9086\n",
            "625/625 [==============================] - 41s 65ms/step - loss: 0.0419 - acc: 0.9870 - val_loss: 0.3426 - val_acc: 0.9086\n",
            "Epoch 19/20\n",
            "157/157 [==============================] - 5s 32ms/step - loss: 0.3593 - acc: 0.9020\n",
            "625/625 [==============================] - 40s 65ms/step - loss: 0.0409 - acc: 0.9862 - val_loss: 0.3593 - val_acc: 0.9020\n",
            "Epoch 20/20\n",
            "157/157 [==============================] - 5s 32ms/step - loss: 0.3335 - acc: 0.9146\n",
            "625/625 [==============================] - 41s 66ms/step - loss: 0.0361 - acc: 0.9881 - val_loss: 0.3335 - val_acc: 0.9146\n"
          ],
          "name": "stdout"
        }
      ]
    },
    {
      "cell_type": "code",
      "metadata": {
        "id": "xhvxH9jpqzom",
        "colab_type": "code",
        "colab": {}
      },
      "source": [
        "acc += history_fine.history['acc']\n",
        "val_acc += history_fine.history['val_acc']\n",
        "\n",
        "loss += history_fine.history['loss']\n",
        "val_loss += history_fine.history['val_loss']"
      ],
      "execution_count": null,
      "outputs": []
    },
    {
      "cell_type": "code",
      "metadata": {
        "id": "2uzW-Sz-sQ6s",
        "colab_type": "code",
        "colab": {
          "base_uri": "https://localhost:8080/",
          "height": 499
        },
        "outputId": "bd231424-0672-4077-f505-ddedbc99a243"
      },
      "source": [
        "plt.figure(figsize=(8, 8))\n",
        "plt.subplot(2, 1, 1)\n",
        "plt.plot(acc, label='Training Accuracy')\n",
        "plt.plot(val_acc, label='Validation Accuracy')\n",
        "plt.ylim([0, 1])\n",
        "plt.plot([epochs-1,epochs-1], plt.ylim(), label='Start Fine Tuning')\n",
        "plt.legend(loc='lower right')\n",
        "plt.title('Training and Validation Accuracy')\n",
        "\n",
        "plt.subplot(2, 1, 2)\n",
        "plt.plot(loss, label='Training Loss')\n",
        "plt.plot(val_loss, label='Validation Loss')\n",
        "#plt.ylim([0, 1])\n",
        "plt.plot([epochs-1,epochs-1], plt.ylim(), label='Start Fine Tuning')\n",
        "plt.legend(loc='upper right')\n",
        "plt.title('Training and Validation Loss')\n",
        "plt.show()"
      ],
      "execution_count": null,
      "outputs": [
        {
          "output_type": "display_data",
          "data": {
            "image/png": "[encoded data removed]",
            "text/plain": [
              "<Figure size 576x576 with 2 Axes>"
            ]
          },
          "metadata": {
            "tags": []
          }
        }
      ]
    },
    {
      "cell_type": "code",
      "metadata": {
        "id": "4vYM2-3jsTcR",
        "colab_type": "code",
        "colab": {}
      },
      "source": [
        ""
      ],
      "execution_count": null,
      "outputs": []
    }
  ]
}