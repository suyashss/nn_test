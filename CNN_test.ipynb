{
  "nbformat": 4,
  "nbformat_minor": 0,
  "metadata": {
    "colab": {
      "name": "CNN_test.ipynb",
      "version": "0.3.2",
      "provenance": [],
      "collapsed_sections": [],
      "include_colab_link": true
    },
    "kernelspec": {
      "name": "python3",
      "display_name": "Python 3"
    },
    "accelerator": "GPU"
  },
  "cells": [
    {
      "cell_type": "markdown",
      "metadata": {
        "id": "view-in-github",
        "colab_type": "text"
      },
      "source": [
        "<a href=\"https://colab.research.google.com/github/suyashss/nn_test/blob/master/CNN_test.ipynb\" target=\"_parent\"><img src=\"https://colab.research.google.com/assets/colab-badge.svg\" alt=\"Open In Colab\"/></a>"
      ]
    },
    {
      "metadata": {
        "id": "ruqy1-MQGChk",
        "colab_type": "code",
        "colab": {}
      },
      "cell_type": "code",
      "source": [
        "!mkdir data"
      ],
      "execution_count": 0,
      "outputs": []
    },
    {
      "metadata": {
        "id": "YjzbFq1-Gz3Y",
        "colab_type": "code",
        "colab": {}
      },
      "cell_type": "code",
      "source": [
        "classes=['book','ladder','eyeglasses']"
      ],
      "execution_count": 0,
      "outputs": []
    },
    {
      "metadata": {
        "id": "88SeIB7lGy2p",
        "colab_type": "code",
        "colab": {}
      },
      "cell_type": "code",
      "source": [
        "import urllib.request\n",
        "def download():\n",
        "  \n",
        "  base = 'https://storage.googleapis.com/quickdraw_dataset/full/numpy_bitmap/'\n",
        "  for c in classes:\n",
        "    cls_url = c.replace('_', '%20')\n",
        "    path = base+cls_url+'.npy'\n",
        "    print(path)\n",
        "    urllib.request.urlretrieve(path, 'data/'+c+'.npy')"
      ],
      "execution_count": 0,
      "outputs": []
    },
    {
      "metadata": {
        "id": "f7e_S_4zG8-_",
        "colab_type": "code",
        "colab": {
          "base_uri": "https://localhost:8080/",
          "height": 68
        },
        "outputId": "03a3d197-e6d0-4457-e3a5-a70dbffd630a"
      },
      "cell_type": "code",
      "source": [
        "download()"
      ],
      "execution_count": 5,
      "outputs": [
        {
          "output_type": "stream",
          "text": [
            "https://storage.googleapis.com/quickdraw_dataset/full/numpy_bitmap/book.npy\n",
            "https://storage.googleapis.com/quickdraw_dataset/full/numpy_bitmap/ladder.npy\n",
            "https://storage.googleapis.com/quickdraw_dataset/full/numpy_bitmap/eyeglasses.npy\n"
          ],
          "name": "stdout"
        }
      ]
    },
    {
      "metadata": {
        "id": "Yp2BTaNPHCQF",
        "colab_type": "code",
        "colab": {}
      },
      "cell_type": "code",
      "source": [
        "import os\n",
        "import glob\n",
        "import numpy as np\n",
        "from tensorflow.keras import layers\n",
        "from tensorflow import keras \n",
        "import tensorflow as tf"
      ],
      "execution_count": 0,
      "outputs": []
    },
    {
      "metadata": {
        "id": "KU23DlbaHFOe",
        "colab_type": "code",
        "colab": {}
      },
      "cell_type": "code",
      "source": [
        "def load_data(root, vfold_ratio=0.2, max_items_per_class= 4000 ):\n",
        "    all_files = glob.glob(os.path.join(root, '*.npy'))\n",
        "\n",
        "    #initialize variables \n",
        "    x = np.empty([0, 784])\n",
        "    y = np.empty([0])\n",
        "    class_names = []\n",
        "\n",
        "    #load each data file \n",
        "    for idx, file in enumerate(all_files):\n",
        "        data = np.load(file)\n",
        "        data = data[0: max_items_per_class, :]\n",
        "        labels = np.full(data.shape[0], idx)\n",
        "\n",
        "        x = np.concatenate((x, data), axis=0)\n",
        "        y = np.append(y, labels)\n",
        "\n",
        "        class_name, ext = os.path.splitext(os.path.basename(file))\n",
        "        class_names.append(class_name)\n",
        "\n",
        "    data = None\n",
        "    labels = None\n",
        "    \n",
        "    #randomize the dataset \n",
        "    permutation = np.random.permutation(y.shape[0])\n",
        "    x = x[permutation, :]\n",
        "    y = y[permutation]\n",
        "\n",
        "    #separate into training and testing \n",
        "    vfold_size = int(x.shape[0]/100*(vfold_ratio*100))\n",
        "\n",
        "    x_test = x[0:vfold_size, :]\n",
        "    y_test = y[0:vfold_size]\n",
        "\n",
        "    x_train = x[vfold_size:x.shape[0], :]\n",
        "    y_train = y[vfold_size:y.shape[0]]\n",
        "    return x_train, y_train, x_test, y_test, class_names"
      ],
      "execution_count": 0,
      "outputs": []
    },
    {
      "metadata": {
        "id": "KFcsN_07HKsr",
        "colab_type": "code",
        "colab": {}
      },
      "cell_type": "code",
      "source": [
        "x_train, y_train, x_test, y_test, class_names = load_data('data')\n",
        "num_classes = len(class_names)\n",
        "image_size = 28"
      ],
      "execution_count": 0,
      "outputs": []
    },
    {
      "metadata": {
        "id": "MjMMoQh4HkKG",
        "colab_type": "code",
        "colab": {
          "base_uri": "https://localhost:8080/",
          "height": 986
        },
        "outputId": "934284a1-1ce5-4b00-9e45-98df65bc2670"
      },
      "cell_type": "code",
      "source": [
        "print(x_train.shape)\n",
        "print(x_train[0])"
      ],
      "execution_count": 9,
      "outputs": [
        {
          "output_type": "stream",
          "text": [
            "(9600, 784)\n",
            "[  0.   0.   0.   0.   0.   0.   0.   0.   0.   0.   0.   0.   0.   0.\n",
            "   0.   0.   0.   0.   0.   0.   0.   0.   0.   0.   0.   0.   0.   0.\n",
            "   0.   0.   0.   0.   0.   0.   0.   0.   0.   0.   0.   0.   0.   0.\n",
            "   0.   0.   0.   0.   0.   0.  84.  35.   0.   0.   0.   0.   0.   0.\n",
            "   0.   0.   0.   0.   0.  29.   0.   0.   0.   0.   0.   0.   0.   0.\n",
            "   0.   0.   0.   0.   0.   0. 217. 251.  76.   0.   0.   0.   0.   0.\n",
            "   0.   0.   5. 161. 119. 253.  66.   0.   0.   0.   0.   0.   0.   0.\n",
            "   0.   0.   0.   0.   0.   0.  67. 255. 130.   0.   0.   0.   0.   0.\n",
            "   0.   0.   5. 188. 255. 255. 186.  93.  39.  12.   0.   0.   0.   0.\n",
            "   0.   0.   0.   0.   0.   0.  36. 255.  86.   0.   0.   0.   0.   0.\n",
            "   0.   0.   0.   0.  95. 255. 238. 255. 255. 255. 246. 223. 204. 204.\n",
            " 204. 204. 204. 204. 204. 204. 209. 255. 131.   0.   0.   0.   0.   0.\n",
            "   0.   0.   0.   0.  49. 255.  73.  39.  86. 110. 131. 157. 170. 170.\n",
            " 170. 170. 170. 170. 170. 170. 190. 255. 216.   0.   0.   0.   0.   0.\n",
            "   0.   0.   0.   0.  51. 255.  71.   0.   0.   0.   0.   0.   0.   0.\n",
            "   0.   0.   0.   0.   0.   0.  36. 255.  88.   0.   0.   0.   0.   0.\n",
            "   0.   0.   0.   0.  53. 255.  69.   0.   0.   0.   0.   0.   0.   0.\n",
            "   0.   0.   0.   0.   0.   0.  36. 255.  86.   0.   0.   0.   0.   0.\n",
            "   0.   0.   0.   0.  55. 255. 162. 232. 234. 163.  65.   0.   0.   0.\n",
            "   0.   0.   0.   0.   0.   0.  36. 255.  86.   0.   0.   0.   0.   0.\n",
            "   0.   0.   0.   0.  90. 255. 254. 167. 151. 233. 255. 177.  23.   0.\n",
            "   0.   0.   0.   0.   0.   0.  36. 255.  86.   0.   0.   0.   0.   0.\n",
            "   0.   0.   0.   0.  61. 255. 100.   0.   0.   5. 105. 243. 241. 166.\n",
            "  99.  64.  29.   2.   0.   0.  36. 255.  86.  17.  23.   0.   0.   0.\n",
            "   0.   0.   0.   0.  61. 255.  61.   0.   0.   0.   0.  34. 148. 227.\n",
            " 255. 255. 255. 248. 222. 221. 226. 255. 248. 255. 249.  10.   0.   0.\n",
            "   0.   0.   0.   0.  63. 255.  98.  47.  31.   1.   0.   0.   0.   0.\n",
            "  26.  61.  96. 130. 153. 153. 167. 255. 175. 106.  61.   0.   0.   0.\n",
            "   0.   0.   0.   0.  81. 255. 255. 255. 255. 227. 148.  67.   4.   0.\n",
            "   0.   0.   0.   0.   0.   0.  36. 255.  86.   0.   0.   0.   0.   0.\n",
            "   0.   0.   0.   0.  73. 255. 104.  79.  95. 166. 240. 255. 237. 161.\n",
            " 119. 119. 119. 119. 119. 119. 138. 255. 116.   0.   0.   0.   0.   0.\n",
            "   0.   0.   0.   0.  94. 255.  28.   0.   0.   0.   6.  72. 153. 230.\n",
            " 255. 255. 255. 255. 255. 255. 255. 255. 254.  22.   0.   0.   0.   0.\n",
            "   0.   0.   0.   0. 114. 255.   8.   0.   0.   0.   0.   0.   0.   0.\n",
            "   0.   0.   0.   0.   0.   0.  36. 255. 119.   0.   0.   0.   0.   0.\n",
            "   0.   0.   0.   7. 166. 248. 119. 119. 119. 110.  70.  30.   0.   0.\n",
            "  16.  17.  28.  34.  41.  51.  82. 255.  89.   0.   0.   0.   0.   0.\n",
            "   0.   0.   0. 183. 255. 255. 255. 255. 255. 255. 255. 255. 255. 255.\n",
            " 255. 255. 255. 255. 255. 255. 255. 255. 146.   0.   0.   0.   0.   0.\n",
            "   0.   0.   0.  53. 194. 207.  17.  17.  17.  20.  54.  96. 119. 119.\n",
            " 110. 102.  97.  85.  84.  68.  76. 255. 114.   0.   0.   0.   0.   0.\n",
            "   0.   0.   0.   0. 193. 183.   0.   0.   0.   0.   0.   0.   0.   0.\n",
            "   0.   0.   0.   0.   0.   0.   0. 236. 142.   0.   0.   0.   0.   0.\n",
            "   0.   0.   0.   0. 213. 163.   0.   0.   0.   0.   0.   0.   0.   0.\n",
            "   0.   0.   0.   0.   0.   0.   0. 205. 173.   0.   0.   0.   0.   0.\n",
            "   0.   0.   0.   0. 233. 143.   0.   0.   0.   0.   0.   0.   0.   0.\n",
            "   0.   0.   0.   0.   0.   0.   0. 174. 204.   0.   0.   0.   0.   0.\n",
            "   0.   0.   0.   1. 251. 124.   0.   0.   0.   0.   0.   0.   0.   0.\n",
            "   0.   0.   0.   0.   0.   0.   0. 132. 246.  15.   0.   0.   0.   0.\n",
            "   0.   0.   0.  14. 255. 103.   0.   0.   0.   0.   0.   0.   0.   0.\n",
            "   0.   0.   0.   0.   0.   0.   0.  45. 255.  91.   0.   0.   0.   0.\n",
            "   0.   0.   0.   0.  96.  19.   0.   0.   0.   0.   0.   0.   0.   0.\n",
            "   0.   0.   0.   0.   0.   0.   0.   0.  91.  24.   0.   0.   0.   0.\n",
            "   0.   0.   0.   0.   0.   0.   0.   0.   0.   0.   0.   0.   0.   0.\n",
            "   0.   0.   0.   0.   0.   0.   0.   0.   0.   0.   0.   0.   0.   0.]\n"
          ],
          "name": "stdout"
        }
      ]
    },
    {
      "metadata": {
        "id": "TqSicsVWHn2i",
        "colab_type": "code",
        "colab": {
          "base_uri": "https://localhost:8080/",
          "height": 282
        },
        "outputId": "4a2bd36f-ece9-48ec-a927-7ba873d4cbe4"
      },
      "cell_type": "code",
      "source": [
        "import matplotlib.pyplot as plt\n",
        "from random import randint\n",
        "%matplotlib inline  \n",
        "idx = randint(0, len(x_train))\n",
        "plt.imshow(x_train[idx].reshape(28,28)) \n",
        "print(class_names[int(y_train[idx].item())])"
      ],
      "execution_count": 10,
      "outputs": [
        {
          "output_type": "stream",
          "text": [
            "eyeglasses\n"
          ],
          "name": "stdout"
        },
        {
          "output_type": "display_data",
          "data": {
            "image/png": "[encoded data removed]",
            "text/plain": [
              "<matplotlib.figure.Figure at 0x7f7d7dd2b6a0>"
            ]
          },
          "metadata": {
            "tags": []
          }
        }
      ]
    },
    {
      "metadata": {
        "id": "vBt_xTJ7Hyq0",
        "colab_type": "code",
        "colab": {}
      },
      "cell_type": "code",
      "source": [
        "# Reshape and normalize\n",
        "x_train = x_train.reshape(x_train.shape[0], image_size, image_size, 1).astype('float32')\n",
        "x_test = x_test.reshape(x_test.shape[0], image_size, image_size, 1).astype('float32')\n",
        "\n",
        "x_train /= 255.0\n",
        "x_test /= 255.0\n",
        "\n",
        "# Convert class vectors to class matrices\n",
        "y_train = keras.utils.to_categorical(y_train, num_classes)\n",
        "y_test = keras.utils.to_categorical(y_test, num_classes)"
      ],
      "execution_count": 0,
      "outputs": []
    },
    {
      "metadata": {
        "id": "OKmzRzpNITmz",
        "colab_type": "code",
        "colab": {
          "base_uri": "https://localhost:8080/",
          "height": 34
        },
        "outputId": "4a6f0762-a841-4a58-a184-c880ce8e66b4"
      },
      "cell_type": "code",
      "source": [
        "print(y_train.shape)"
      ],
      "execution_count": 12,
      "outputs": [
        {
          "output_type": "stream",
          "text": [
            "(9600, 3)\n"
          ],
          "name": "stdout"
        }
      ]
    },
    {
      "metadata": {
        "id": "1GF5D_1YIWlY",
        "colab_type": "code",
        "colab": {
          "base_uri": "https://localhost:8080/",
          "height": 187
        },
        "outputId": "9be773fe-758f-46cc-fbe0-bb35e20635ab"
      },
      "cell_type": "code",
      "source": [
        "print(y_train[:10,:])"
      ],
      "execution_count": 13,
      "outputs": [
        {
          "output_type": "stream",
          "text": [
            "[[1. 0. 0.]\n",
            " [0. 1. 0.]\n",
            " [0. 0. 1.]\n",
            " [0. 0. 1.]\n",
            " [0. 0. 1.]\n",
            " [0. 0. 1.]\n",
            " [0. 1. 0.]\n",
            " [0. 0. 1.]\n",
            " [0. 1. 0.]\n",
            " [0. 1. 0.]]\n"
          ],
          "name": "stdout"
        }
      ]
    },
    {
      "metadata": {
        "id": "oZ63cnpaJWFA",
        "colab_type": "code",
        "colab": {}
      },
      "cell_type": "code",
      "source": [
        ""
      ],
      "execution_count": 0,
      "outputs": []
    },
    {
      "metadata": {
        "id": "kzQuwSbxJjcy",
        "colab_type": "code",
        "colab": {
          "base_uri": "https://localhost:8080/",
          "height": 391
        },
        "outputId": "ce95b1d0-c5bc-4bbb-9db2-acfabbbe1b31"
      },
      "cell_type": "code",
      "source": [
        "model = keras.Sequential()\n",
        "model.add(layers.Convolution2D(8, (3, 3), padding='same', activation= 'relu',input_shape=x_train.shape[1:]))\n",
        "model.add(layers.MaxPooling2D(pool_size=(2, 2)))\n",
        "model.add(layers.Convolution2D(16, (3, 3), padding='same', activation= 'relu'))\n",
        "model.add(layers.MaxPooling2D(pool_size=(2, 2)))\n",
        "model.add(layers.Flatten())\n",
        "model.add(layers.Dense(20, activation='relu'))\n",
        "model.add(layers.Dense(len(classes), activation='softmax')) \n",
        "# Train model\n",
        "adam = tf.train.AdamOptimizer()\n",
        "model.compile(loss='categorical_crossentropy',\n",
        "              optimizer=adam,\n",
        "              metrics=['top_k_categorical_accuracy'])\n",
        "print(model.summary())"
      ],
      "execution_count": 21,
      "outputs": [
        {
          "output_type": "stream",
          "text": [
            "_________________________________________________________________\n",
            "Layer (type)                 Output Shape              Param #   \n",
            "=================================================================\n",
            "conv2d_8 (Conv2D)            (None, 28, 28, 8)         80        \n",
            "_________________________________________________________________\n",
            "max_pooling2d_8 (MaxPooling2 (None, 14, 14, 8)         0         \n",
            "_________________________________________________________________\n",
            "conv2d_9 (Conv2D)            (None, 14, 14, 16)        1168      \n",
            "_________________________________________________________________\n",
            "max_pooling2d_9 (MaxPooling2 (None, 7, 7, 16)          0         \n",
            "_________________________________________________________________\n",
            "flatten_4 (Flatten)          (None, 784)               0         \n",
            "_________________________________________________________________\n",
            "dense_8 (Dense)              (None, 20)                15700     \n",
            "_________________________________________________________________\n",
            "dense_9 (Dense)              (None, 3)                 63        \n",
            "=================================================================\n",
            "Total params: 17,011\n",
            "Trainable params: 17,011\n",
            "Non-trainable params: 0\n",
            "_________________________________________________________________\n",
            "None\n"
          ],
          "name": "stdout"
        }
      ]
    },
    {
      "metadata": {
        "id": "DpyO3D6UKWtX",
        "colab_type": "code",
        "colab": {
          "base_uri": "https://localhost:8080/",
          "height": 391
        },
        "outputId": "ac1aa232-84d2-438e-a819-fe0e024033f3"
      },
      "cell_type": "code",
      "source": [
        "model.fit(x = x_train, y = y_train, validation_split=0.1, batch_size = 256, verbose=2, epochs=10)"
      ],
      "execution_count": 22,
      "outputs": [
        {
          "output_type": "stream",
          "text": [
            "Train on 8640 samples, validate on 960 samples\n",
            "Epoch 1/10\n",
            " - 1s - loss: 0.5454 - top_k_categorical_accuracy: 1.0000 - val_loss: 0.3326 - val_top_k_categorical_accuracy: 1.0000\n",
            "Epoch 2/10\n",
            " - 0s - loss: 0.2400 - top_k_categorical_accuracy: 1.0000 - val_loss: 0.2565 - val_top_k_categorical_accuracy: 1.0000\n",
            "Epoch 3/10\n",
            " - 0s - loss: 0.1829 - top_k_categorical_accuracy: 1.0000 - val_loss: 0.2187 - val_top_k_categorical_accuracy: 1.0000\n",
            "Epoch 4/10\n",
            " - 0s - loss: 0.1553 - top_k_categorical_accuracy: 1.0000 - val_loss: 0.1942 - val_top_k_categorical_accuracy: 1.0000\n",
            "Epoch 5/10\n",
            " - 0s - loss: 0.1399 - top_k_categorical_accuracy: 1.0000 - val_loss: 0.1867 - val_top_k_categorical_accuracy: 1.0000\n",
            "Epoch 6/10\n",
            " - 0s - loss: 0.1271 - top_k_categorical_accuracy: 1.0000 - val_loss: 0.1692 - val_top_k_categorical_accuracy: 1.0000\n",
            "Epoch 7/10\n",
            " - 0s - loss: 0.1143 - top_k_categorical_accuracy: 1.0000 - val_loss: 0.1794 - val_top_k_categorical_accuracy: 1.0000\n",
            "Epoch 8/10\n",
            " - 0s - loss: 0.1089 - top_k_categorical_accuracy: 1.0000 - val_loss: 0.1583 - val_top_k_categorical_accuracy: 1.0000\n",
            "Epoch 9/10\n",
            " - 0s - loss: 0.1020 - top_k_categorical_accuracy: 1.0000 - val_loss: 0.1489 - val_top_k_categorical_accuracy: 1.0000\n",
            "Epoch 10/10\n",
            " - 0s - loss: 0.0932 - top_k_categorical_accuracy: 1.0000 - val_loss: 0.1518 - val_top_k_categorical_accuracy: 1.0000\n"
          ],
          "name": "stdout"
        },
        {
          "output_type": "execute_result",
          "data": {
            "text/plain": [
              "<tensorflow.python.keras.callbacks.History at 0x7f7d268111d0>"
            ]
          },
          "metadata": {
            "tags": []
          },
          "execution_count": 22
        }
      ]
    },
    {
      "metadata": {
        "id": "ylBlFpFLL9aJ",
        "colab_type": "code",
        "colab": {
          "base_uri": "https://localhost:8080/",
          "height": 34
        },
        "outputId": "446911d4-978f-4290-e780-14433160bb59"
      },
      "cell_type": "code",
      "source": [
        "score = model.evaluate(x_test, y_test, verbose=0)\n",
        "print('Test accuarcy: {:0.2f}%'.format(score[1] * 100))"
      ],
      "execution_count": 23,
      "outputs": [
        {
          "output_type": "stream",
          "text": [
            "Test accuarcy: 100.00%\n"
          ],
          "name": "stdout"
        }
      ]
    },
    {
      "metadata": {
        "id": "_QyNgIabMFF8",
        "colab_type": "code",
        "colab": {
          "base_uri": "https://localhost:8080/",
          "height": 282
        },
        "outputId": "7a4204f4-a096-4559-82d7-57cc5a3f4ca0"
      },
      "cell_type": "code",
      "source": [
        "import matplotlib.pyplot as plt\n",
        "from random import randint\n",
        "%matplotlib inline  \n",
        "idx = randint(0, len(x_test))\n",
        "img = x_test[idx]\n",
        "plt.imshow(img.squeeze()) \n",
        "pred = model.predict(np.expand_dims(img, axis=0))[0]\n",
        "ind = (-pred).argsort()[:2]\n",
        "latex = [class_names[x] for x in ind]\n",
        "print(latex)"
      ],
      "execution_count": 24,
      "outputs": [
        {
          "output_type": "stream",
          "text": [
            "['ladder', 'eyeglasses']\n"
          ],
          "name": "stdout"
        },
        {
          "output_type": "display_data",
          "data": {
            "image/png": "[encoded data removed]",
            "text/plain": [
              "<matplotlib.figure.Figure at 0x7f7d25bb2d30>"
            ]
          },
          "metadata": {
            "tags": []
          }
        }
      ]
    }
  ]
}