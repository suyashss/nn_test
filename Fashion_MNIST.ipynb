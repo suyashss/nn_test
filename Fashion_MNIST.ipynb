{
  "nbformat": 4,
  "nbformat_minor": 0,
  "metadata": {
    "colab": {
      "name": "Fashion MNIST.ipynb",
      "provenance": [],
      "collapsed_sections": [],
      "include_colab_link": true
    },
    "kernelspec": {
      "name": "python3",
      "display_name": "Python 3"
    },
    "accelerator": "GPU"
  },
  "cells": [
    {
      "cell_type": "markdown",
      "metadata": {
        "id": "view-in-github",
        "colab_type": "text"
      },
      "source": [
        "<a href=\"https://colab.research.google.com/github/suyashss/nn_test/blob/master/Fashion_MNIST.ipynb\" target=\"_parent\"><img src=\"https://colab.research.google.com/assets/colab-badge.svg\" alt=\"Open In Colab\"/></a>"
      ]
    },
    {
      "cell_type": "code",
      "metadata": {
        "id": "76WdVHFlCmfN",
        "colab_type": "code",
        "colab": {
          "base_uri": "https://localhost:8080/",
          "height": 34
        },
        "outputId": "aff19bf1-166c-406d-d435-829c74eb5056"
      },
      "source": [
        "%tensorflow_version 2.x"
      ],
      "execution_count": 1,
      "outputs": [
        {
          "output_type": "stream",
          "text": [
            "TensorFlow 2.x selected.\n"
          ],
          "name": "stdout"
        }
      ]
    },
    {
      "cell_type": "code",
      "metadata": {
        "id": "lAMr5av9C4ND",
        "colab_type": "code",
        "colab": {
          "base_uri": "https://localhost:8080/",
          "height": 34
        },
        "outputId": "10140a2c-714b-44f2-e108-4f57f470f76f"
      },
      "source": [
        "import tensorflow as tf\n",
        "print(tf.__version__)"
      ],
      "execution_count": 3,
      "outputs": [
        {
          "output_type": "stream",
          "text": [
            "2.0.0\n"
          ],
          "name": "stdout"
        }
      ]
    },
    {
      "cell_type": "code",
      "metadata": {
        "id": "NUiuHtcvDHlf",
        "colab_type": "code",
        "colab": {}
      },
      "source": [
        "from tensorflow import keras"
      ],
      "execution_count": 0,
      "outputs": []
    },
    {
      "cell_type": "code",
      "metadata": {
        "id": "JazsdecnDTn2",
        "colab_type": "code",
        "colab": {}
      },
      "source": [
        "fashion_mnist = keras.datasets.fashion_mnist"
      ],
      "execution_count": 0,
      "outputs": []
    },
    {
      "cell_type": "code",
      "metadata": {
        "id": "OKsBwOPADYZy",
        "colab_type": "code",
        "colab": {}
      },
      "source": [
        "(x_train,y_train),(x_test,y_test) = fashion_mnist.load_data()"
      ],
      "execution_count": 0,
      "outputs": []
    },
    {
      "cell_type": "code",
      "metadata": {
        "id": "D1Ur1xmxQjC2",
        "colab_type": "code",
        "colab": {}
      },
      "source": [
        "x_train = x_train/255.0\n",
        "x_test = x_test/255.0"
      ],
      "execution_count": 0,
      "outputs": []
    },
    {
      "cell_type": "code",
      "metadata": {
        "id": "T0urenYSDZj8",
        "colab_type": "code",
        "colab": {
          "base_uri": "https://localhost:8080/",
          "height": 34
        },
        "outputId": "be49ef63-8e50-4efd-93bd-4ae666766811"
      },
      "source": [
        "x_train.shape,y_train.shape"
      ],
      "execution_count": 56,
      "outputs": [
        {
          "output_type": "execute_result",
          "data": {
            "text/plain": [
              "((60000, 28, 28), (60000,))"
            ]
          },
          "metadata": {
            "tags": []
          },
          "execution_count": 56
        }
      ]
    },
    {
      "cell_type": "code",
      "metadata": {
        "id": "qq19WtMJDvZy",
        "colab_type": "code",
        "colab": {}
      },
      "source": [
        "class_names = [\"T-shirt/top\",\"Trouser\",\"Pullover\",\"Dress\",\"Coat\",\"Sandal\",\"Shirt\",\"Sneaker\",\"Bag\",\"Ankle boot\"]"
      ],
      "execution_count": 0,
      "outputs": []
    },
    {
      "cell_type": "code",
      "metadata": {
        "id": "RnH6MA3SEgVE",
        "colab_type": "code",
        "colab": {}
      },
      "source": [
        "model = keras.Sequential()\n",
        "model.add(keras.layers.Flatten(input_shape=x_train.shape[1:]))\n",
        "model.add(keras.layers.Dense(100,activation=\"relu\",))\n",
        "#model.add(keras.layers.Dense(50,activation=\"relu\",))\n",
        "model.add(keras.layers.Dense(len(class_names),activation=\"softmax\"))"
      ],
      "execution_count": 0,
      "outputs": []
    },
    {
      "cell_type": "code",
      "metadata": {
        "id": "hTiNjxBgFIbi",
        "colab_type": "code",
        "colab": {}
      },
      "source": [
        "model.compile(optimizer='sgd',loss=\"sparse_categorical_crossentropy\",metrics=[\"accuracy\"],)"
      ],
      "execution_count": 0,
      "outputs": []
    },
    {
      "cell_type": "code",
      "metadata": {
        "id": "52AgGnD_F4Ta",
        "colab_type": "code",
        "colab": {
          "base_uri": "https://localhost:8080/",
          "height": 1000
        },
        "outputId": "9ce6f57d-5945-497b-f66d-250aef369748"
      },
      "source": [
        "history = model.fit(x_train,y_train,batch_size=128,epochs=30,validation_split=0.1)"
      ],
      "execution_count": 79,
      "outputs": [
        {
          "output_type": "stream",
          "text": [
            "Train on 54000 samples, validate on 6000 samples\n",
            "Epoch 1/30\n",
            "54000/54000 [==============================] - 2s 46us/sample - loss: 1.1311 - accuracy: 0.6607 - val_loss: 0.7829 - val_accuracy: 0.7547\n",
            "Epoch 2/30\n",
            "54000/54000 [==============================] - 2s 35us/sample - loss: 0.7128 - accuracy: 0.7699 - val_loss: 0.6461 - val_accuracy: 0.7892\n",
            "Epoch 3/30\n",
            "54000/54000 [==============================] - 2s 37us/sample - loss: 0.6212 - accuracy: 0.7971 - val_loss: 0.5865 - val_accuracy: 0.8028\n",
            "Epoch 4/30\n",
            "54000/54000 [==============================] - 2s 36us/sample - loss: 0.5730 - accuracy: 0.8105 - val_loss: 0.5515 - val_accuracy: 0.8122\n",
            "Epoch 5/30\n",
            "54000/54000 [==============================] - 2s 37us/sample - loss: 0.5421 - accuracy: 0.8199 - val_loss: 0.5278 - val_accuracy: 0.8195\n",
            "Epoch 6/30\n",
            "54000/54000 [==============================] - 2s 37us/sample - loss: 0.5194 - accuracy: 0.8259 - val_loss: 0.5111 - val_accuracy: 0.8238\n",
            "Epoch 7/30\n",
            "54000/54000 [==============================] - 2s 36us/sample - loss: 0.5024 - accuracy: 0.8299 - val_loss: 0.4976 - val_accuracy: 0.8278\n",
            "Epoch 8/30\n",
            "54000/54000 [==============================] - 2s 37us/sample - loss: 0.4890 - accuracy: 0.8338 - val_loss: 0.4868 - val_accuracy: 0.8325\n",
            "Epoch 9/30\n",
            "54000/54000 [==============================] - 2s 38us/sample - loss: 0.4781 - accuracy: 0.8371 - val_loss: 0.4742 - val_accuracy: 0.8337\n",
            "Epoch 10/30\n",
            "54000/54000 [==============================] - 2s 39us/sample - loss: 0.4686 - accuracy: 0.8396 - val_loss: 0.4673 - val_accuracy: 0.8357\n",
            "Epoch 11/30\n",
            "54000/54000 [==============================] - 2s 38us/sample - loss: 0.4602 - accuracy: 0.8433 - val_loss: 0.4594 - val_accuracy: 0.8400\n",
            "Epoch 12/30\n",
            "54000/54000 [==============================] - 2s 40us/sample - loss: 0.4533 - accuracy: 0.8453 - val_loss: 0.4559 - val_accuracy: 0.8382\n",
            "Epoch 13/30\n",
            "54000/54000 [==============================] - 2s 37us/sample - loss: 0.4468 - accuracy: 0.8476 - val_loss: 0.4540 - val_accuracy: 0.8402\n",
            "Epoch 14/30\n",
            "54000/54000 [==============================] - 2s 37us/sample - loss: 0.4413 - accuracy: 0.8494 - val_loss: 0.4436 - val_accuracy: 0.8393\n",
            "Epoch 15/30\n",
            "54000/54000 [==============================] - 2s 37us/sample - loss: 0.4358 - accuracy: 0.8509 - val_loss: 0.4423 - val_accuracy: 0.8430\n",
            "Epoch 16/30\n",
            "54000/54000 [==============================] - 2s 40us/sample - loss: 0.4308 - accuracy: 0.8524 - val_loss: 0.4337 - val_accuracy: 0.8457\n",
            "Epoch 17/30\n",
            "54000/54000 [==============================] - 2s 38us/sample - loss: 0.4262 - accuracy: 0.8548 - val_loss: 0.4316 - val_accuracy: 0.8463\n",
            "Epoch 18/30\n",
            "54000/54000 [==============================] - 2s 42us/sample - loss: 0.4220 - accuracy: 0.8551 - val_loss: 0.4273 - val_accuracy: 0.8498\n",
            "Epoch 19/30\n",
            "54000/54000 [==============================] - 2s 37us/sample - loss: 0.4184 - accuracy: 0.8569 - val_loss: 0.4228 - val_accuracy: 0.8500\n",
            "Epoch 20/30\n",
            "54000/54000 [==============================] - 2s 37us/sample - loss: 0.4141 - accuracy: 0.8577 - val_loss: 0.4241 - val_accuracy: 0.8498\n",
            "Epoch 21/30\n",
            "54000/54000 [==============================] - 2s 39us/sample - loss: 0.4108 - accuracy: 0.8587 - val_loss: 0.4220 - val_accuracy: 0.8512\n",
            "Epoch 22/30\n",
            "54000/54000 [==============================] - 2s 37us/sample - loss: 0.4076 - accuracy: 0.8605 - val_loss: 0.4199 - val_accuracy: 0.8513\n",
            "Epoch 23/30\n",
            "54000/54000 [==============================] - 2s 37us/sample - loss: 0.4041 - accuracy: 0.8612 - val_loss: 0.4141 - val_accuracy: 0.8545\n",
            "Epoch 24/30\n",
            "54000/54000 [==============================] - 2s 37us/sample - loss: 0.4016 - accuracy: 0.8616 - val_loss: 0.4163 - val_accuracy: 0.8525\n",
            "Epoch 25/30\n",
            "54000/54000 [==============================] - 2s 38us/sample - loss: 0.3981 - accuracy: 0.8633 - val_loss: 0.4087 - val_accuracy: 0.8580\n",
            "Epoch 26/30\n",
            "54000/54000 [==============================] - 2s 39us/sample - loss: 0.3957 - accuracy: 0.8633 - val_loss: 0.4071 - val_accuracy: 0.8558\n",
            "Epoch 27/30\n",
            "54000/54000 [==============================] - 2s 39us/sample - loss: 0.3928 - accuracy: 0.8657 - val_loss: 0.4029 - val_accuracy: 0.8585\n",
            "Epoch 28/30\n",
            "54000/54000 [==============================] - 2s 39us/sample - loss: 0.3903 - accuracy: 0.8650 - val_loss: 0.4026 - val_accuracy: 0.8577\n",
            "Epoch 29/30\n",
            "54000/54000 [==============================] - 2s 38us/sample - loss: 0.3876 - accuracy: 0.8672 - val_loss: 0.3998 - val_accuracy: 0.8580\n",
            "Epoch 30/30\n",
            "54000/54000 [==============================] - 2s 40us/sample - loss: 0.3858 - accuracy: 0.8672 - val_loss: 0.4008 - val_accuracy: 0.8585\n"
          ],
          "name": "stdout"
        }
      ]
    },
    {
      "cell_type": "code",
      "metadata": {
        "id": "2QSZQl2DGStG",
        "colab_type": "code",
        "colab": {}
      },
      "source": [
        "import pandas as pd\n",
        "import matplotlib.pyplot as plt"
      ],
      "execution_count": 0,
      "outputs": []
    },
    {
      "cell_type": "code",
      "metadata": {
        "id": "UDJTLkMXKUU3",
        "colab_type": "code",
        "colab": {
          "base_uri": "https://localhost:8080/",
          "height": 204
        },
        "outputId": "433dfada-5401-4537-fff0-b3d5dc58b88e"
      },
      "source": [
        "df=pd.DataFrame(history.history)\n",
        "df.head()"
      ],
      "execution_count": 81,
      "outputs": [
        {
          "output_type": "execute_result",
          "data": {
            "text/html": [
              "<div>\n",
              "<style scoped>\n",
              "    .dataframe tbody tr th:only-of-type {\n",
              "        vertical-align: middle;\n",
              "    }\n",
              "\n",
              "    .dataframe tbody tr th {\n",
              "        vertical-align: top;\n",
              "    }\n",
              "\n",
              "    .dataframe thead th {\n",
              "        text-align: right;\n",
              "    }\n",
              "</style>\n",
              "<table border=\"1\" class=\"dataframe\">\n",
              "  <thead>\n",
              "    <tr style=\"text-align: right;\">\n",
              "      <th></th>\n",
              "      <th>loss</th>\n",
              "      <th>accuracy</th>\n",
              "      <th>val_loss</th>\n",
              "      <th>val_accuracy</th>\n",
              "    </tr>\n",
              "  </thead>\n",
              "  <tbody>\n",
              "    <tr>\n",
              "      <th>0</th>\n",
              "      <td>1.131096</td>\n",
              "      <td>0.660685</td>\n",
              "      <td>0.782914</td>\n",
              "      <td>0.754667</td>\n",
              "    </tr>\n",
              "    <tr>\n",
              "      <th>1</th>\n",
              "      <td>0.712770</td>\n",
              "      <td>0.769926</td>\n",
              "      <td>0.646133</td>\n",
              "      <td>0.789167</td>\n",
              "    </tr>\n",
              "    <tr>\n",
              "      <th>2</th>\n",
              "      <td>0.621209</td>\n",
              "      <td>0.797074</td>\n",
              "      <td>0.586524</td>\n",
              "      <td>0.802833</td>\n",
              "    </tr>\n",
              "    <tr>\n",
              "      <th>3</th>\n",
              "      <td>0.572958</td>\n",
              "      <td>0.810463</td>\n",
              "      <td>0.551501</td>\n",
              "      <td>0.812167</td>\n",
              "    </tr>\n",
              "    <tr>\n",
              "      <th>4</th>\n",
              "      <td>0.542067</td>\n",
              "      <td>0.819889</td>\n",
              "      <td>0.527847</td>\n",
              "      <td>0.819500</td>\n",
              "    </tr>\n",
              "  </tbody>\n",
              "</table>\n",
              "</div>"
            ],
            "text/plain": [
              "       loss  accuracy  val_loss  val_accuracy\n",
              "0  1.131096  0.660685  0.782914      0.754667\n",
              "1  0.712770  0.769926  0.646133      0.789167\n",
              "2  0.621209  0.797074  0.586524      0.802833\n",
              "3  0.572958  0.810463  0.551501      0.812167\n",
              "4  0.542067  0.819889  0.527847      0.819500"
            ]
          },
          "metadata": {
            "tags": []
          },
          "execution_count": 81
        }
      ]
    },
    {
      "cell_type": "code",
      "metadata": {
        "id": "9C3C2j9wKgY4",
        "colab_type": "code",
        "colab": {
          "base_uri": "https://localhost:8080/",
          "height": 324
        },
        "outputId": "c331a14f-e86a-4ac6-d50e-ba7aa0dd3a05"
      },
      "source": [
        "df.plot(figsize=(7,5))\n",
        "plt.grid(True)\n",
        "plt.gca().set_ylim(0,1)\n",
        "plt.show()"
      ],
      "execution_count": 82,
      "outputs": [
        {
          "output_type": "display_data",
          "data": {
            "image/png": "[encoded data removed]",
            "text/plain": [
              "<Figure size 504x360 with 1 Axes>"
            ]
          },
          "metadata": {
            "tags": []
          }
        }
      ]
    },
    {
      "cell_type": "code",
      "metadata": {
        "id": "YJRKEOPLKupM",
        "colab_type": "code",
        "colab": {}
      },
      "source": [
        ""
      ],
      "execution_count": 0,
      "outputs": []
    }
  ]
}