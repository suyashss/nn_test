{
  "nbformat": 4,
  "nbformat_minor": 0,
  "metadata": {
    "colab": {
      "name": "Fashion MNIST.ipynb",
      "provenance": [],
      "collapsed_sections": [],
      "include_colab_link": true
    },
    "kernelspec": {
      "name": "python3",
      "display_name": "Python 3"
    },
    "accelerator": "GPU"
  },
  "cells": [
    {
      "cell_type": "markdown",
      "metadata": {
        "id": "view-in-github",
        "colab_type": "text"
      },
      "source": [
        "<a href=\"https://colab.research.google.com/github/suyashss/nn_test/blob/master/Fashion_MNIST.ipynb\" target=\"_parent\"><img src=\"https://colab.research.google.com/assets/colab-badge.svg\" alt=\"Open In Colab\"/></a>"
      ]
    },
    {
      "cell_type": "code",
      "metadata": {
        "id": "76WdVHFlCmfN",
        "colab_type": "code",
        "outputId": "2545b0da-5898-4bc5-f000-cba4d2e5ea55",
        "colab": {
          "base_uri": "https://localhost:8080/",
          "height": 34
        }
      },
      "source": [
        "%tensorflow_version 2.x"
      ],
      "execution_count": 1,
      "outputs": [
        {
          "output_type": "stream",
          "text": [
            "TensorFlow 2.x selected.\n"
          ],
          "name": "stdout"
        }
      ]
    },
    {
      "cell_type": "code",
      "metadata": {
        "id": "lAMr5av9C4ND",
        "colab_type": "code",
        "outputId": "28fa62e1-746b-40ac-aee5-b744208820c4",
        "colab": {
          "base_uri": "https://localhost:8080/",
          "height": 34
        }
      },
      "source": [
        "import tensorflow as tf\n",
        "print(tf.__version__)"
      ],
      "execution_count": 2,
      "outputs": [
        {
          "output_type": "stream",
          "text": [
            "2.0.0\n"
          ],
          "name": "stdout"
        }
      ]
    },
    {
      "cell_type": "code",
      "metadata": {
        "id": "NUiuHtcvDHlf",
        "colab_type": "code",
        "colab": {}
      },
      "source": [
        "from tensorflow import keras"
      ],
      "execution_count": 0,
      "outputs": []
    },
    {
      "cell_type": "code",
      "metadata": {
        "id": "JazsdecnDTn2",
        "colab_type": "code",
        "colab": {}
      },
      "source": [
        "fashion_mnist = keras.datasets.fashion_mnist"
      ],
      "execution_count": 0,
      "outputs": []
    },
    {
      "cell_type": "code",
      "metadata": {
        "id": "OKsBwOPADYZy",
        "colab_type": "code",
        "colab": {
          "base_uri": "https://localhost:8080/",
          "height": 153
        },
        "outputId": "a067c7c6-a08b-4133-c5dc-cd32b1fdef4a"
      },
      "source": [
        "(x_train,y_train),(x_test,y_test) = fashion_mnist.load_data()"
      ],
      "execution_count": 5,
      "outputs": [
        {
          "output_type": "stream",
          "text": [
            "Downloading data from https://storage.googleapis.com/tensorflow/tf-keras-datasets/train-labels-idx1-ubyte.gz\n",
            "32768/29515 [=================================] - 0s 0us/step\n",
            "Downloading data from https://storage.googleapis.com/tensorflow/tf-keras-datasets/train-images-idx3-ubyte.gz\n",
            "26427392/26421880 [==============================] - 0s 0us/step\n",
            "Downloading data from https://storage.googleapis.com/tensorflow/tf-keras-datasets/t10k-labels-idx1-ubyte.gz\n",
            "8192/5148 [===============================================] - 0s 0us/step\n",
            "Downloading data from https://storage.googleapis.com/tensorflow/tf-keras-datasets/t10k-images-idx3-ubyte.gz\n",
            "4423680/4422102 [==============================] - 0s 0us/step\n"
          ],
          "name": "stdout"
        }
      ]
    },
    {
      "cell_type": "code",
      "metadata": {
        "id": "D1Ur1xmxQjC2",
        "colab_type": "code",
        "colab": {}
      },
      "source": [
        "x_train = x_train/255.0\n",
        "x_test = x_test/255.0"
      ],
      "execution_count": 0,
      "outputs": []
    },
    {
      "cell_type": "code",
      "metadata": {
        "id": "T0urenYSDZj8",
        "colab_type": "code",
        "outputId": "ada7cfc2-cdbd-46f7-c275-b62676f3a8ae",
        "colab": {
          "base_uri": "https://localhost:8080/",
          "height": 34
        }
      },
      "source": [
        "x_train.shape,y_train.shape"
      ],
      "execution_count": 7,
      "outputs": [
        {
          "output_type": "execute_result",
          "data": {
            "text/plain": [
              "((60000, 28, 28), (60000,))"
            ]
          },
          "metadata": {
            "tags": []
          },
          "execution_count": 7
        }
      ]
    },
    {
      "cell_type": "code",
      "metadata": {
        "id": "qq19WtMJDvZy",
        "colab_type": "code",
        "colab": {}
      },
      "source": [
        "class_names = [\"T-shirt/top\",\"Trouser\",\"Pullover\",\"Dress\",\"Coat\",\"Sandal\",\"Shirt\",\"Sneaker\",\"Bag\",\"Ankle boot\"]"
      ],
      "execution_count": 0,
      "outputs": []
    },
    {
      "cell_type": "code",
      "metadata": {
        "id": "RnH6MA3SEgVE",
        "colab_type": "code",
        "colab": {}
      },
      "source": [
        "model = keras.Sequential()\n",
        "model.add(keras.layers.Flatten(input_shape=x_train.shape[1:]))\n",
        "model.add(keras.layers.Dense(100,activation=\"relu\",))\n",
        "#model.add(keras.layers.Dense(50,activation=\"relu\",))\n",
        "model.add(keras.layers.Dense(len(class_names),activation=\"softmax\"))"
      ],
      "execution_count": 0,
      "outputs": []
    },
    {
      "cell_type": "code",
      "metadata": {
        "id": "hTiNjxBgFIbi",
        "colab_type": "code",
        "colab": {}
      },
      "source": [
        "model.compile(optimizer='sgd',loss=\"sparse_categorical_crossentropy\",metrics=[\"accuracy\"],)"
      ],
      "execution_count": 0,
      "outputs": []
    },
    {
      "cell_type": "code",
      "metadata": {
        "id": "52AgGnD_F4Ta",
        "colab_type": "code",
        "outputId": "3de4c7a9-18ff-423b-8cb9-b4942030d7e8",
        "colab": {
          "base_uri": "https://localhost:8080/",
          "height": 1000
        }
      },
      "source": [
        "history = model.fit(x_train,y_train,batch_size=128,epochs=30,validation_split=0.1)"
      ],
      "execution_count": 11,
      "outputs": [
        {
          "output_type": "stream",
          "text": [
            "Train on 54000 samples, validate on 6000 samples\n",
            "Epoch 1/30\n",
            "54000/54000 [==============================] - 3s 57us/sample - loss: 1.0925 - accuracy: 0.6645 - val_loss: 0.7598 - val_accuracy: 0.7487\n",
            "Epoch 2/30\n",
            "54000/54000 [==============================] - 2s 34us/sample - loss: 0.7018 - accuracy: 0.7678 - val_loss: 0.6404 - val_accuracy: 0.7858\n",
            "Epoch 3/30\n",
            "54000/54000 [==============================] - 2s 31us/sample - loss: 0.6172 - accuracy: 0.7958 - val_loss: 0.5847 - val_accuracy: 0.8017\n",
            "Epoch 4/30\n",
            "54000/54000 [==============================] - 2s 32us/sample - loss: 0.5709 - accuracy: 0.8104 - val_loss: 0.5476 - val_accuracy: 0.8157\n",
            "Epoch 5/30\n",
            "54000/54000 [==============================] - 2s 31us/sample - loss: 0.5410 - accuracy: 0.8205 - val_loss: 0.5251 - val_accuracy: 0.8235\n",
            "Epoch 6/30\n",
            "54000/54000 [==============================] - 2s 31us/sample - loss: 0.5193 - accuracy: 0.8265 - val_loss: 0.5096 - val_accuracy: 0.8228\n",
            "Epoch 7/30\n",
            "54000/54000 [==============================] - 2s 33us/sample - loss: 0.5033 - accuracy: 0.8306 - val_loss: 0.5052 - val_accuracy: 0.8253\n",
            "Epoch 8/30\n",
            "54000/54000 [==============================] - 2s 34us/sample - loss: 0.4902 - accuracy: 0.8337 - val_loss: 0.4838 - val_accuracy: 0.8288\n",
            "Epoch 9/30\n",
            "54000/54000 [==============================] - 2s 34us/sample - loss: 0.4795 - accuracy: 0.8375 - val_loss: 0.4765 - val_accuracy: 0.8337\n",
            "Epoch 10/30\n",
            "54000/54000 [==============================] - 2s 35us/sample - loss: 0.4702 - accuracy: 0.8401 - val_loss: 0.4710 - val_accuracy: 0.8373\n",
            "Epoch 11/30\n",
            "54000/54000 [==============================] - 2s 32us/sample - loss: 0.4626 - accuracy: 0.8432 - val_loss: 0.4626 - val_accuracy: 0.8388\n",
            "Epoch 12/30\n",
            "54000/54000 [==============================] - 2s 34us/sample - loss: 0.4553 - accuracy: 0.8435 - val_loss: 0.4569 - val_accuracy: 0.8385\n",
            "Epoch 13/30\n",
            "54000/54000 [==============================] - 2s 34us/sample - loss: 0.4497 - accuracy: 0.8462 - val_loss: 0.4486 - val_accuracy: 0.8393\n",
            "Epoch 14/30\n",
            "54000/54000 [==============================] - 2s 32us/sample - loss: 0.4438 - accuracy: 0.8484 - val_loss: 0.4446 - val_accuracy: 0.8420\n",
            "Epoch 15/30\n",
            "54000/54000 [==============================] - 2s 31us/sample - loss: 0.4387 - accuracy: 0.8492 - val_loss: 0.4424 - val_accuracy: 0.8418\n",
            "Epoch 16/30\n",
            "54000/54000 [==============================] - 2s 30us/sample - loss: 0.4341 - accuracy: 0.8511 - val_loss: 0.4396 - val_accuracy: 0.8455\n",
            "Epoch 17/30\n",
            "54000/54000 [==============================] - 2s 31us/sample - loss: 0.4299 - accuracy: 0.8516 - val_loss: 0.4322 - val_accuracy: 0.8477\n",
            "Epoch 18/30\n",
            "54000/54000 [==============================] - 2s 32us/sample - loss: 0.4257 - accuracy: 0.8537 - val_loss: 0.4313 - val_accuracy: 0.8475\n",
            "Epoch 19/30\n",
            "54000/54000 [==============================] - 2s 30us/sample - loss: 0.4216 - accuracy: 0.8543 - val_loss: 0.4239 - val_accuracy: 0.8488\n",
            "Epoch 20/30\n",
            "54000/54000 [==============================] - 2s 31us/sample - loss: 0.4182 - accuracy: 0.8556 - val_loss: 0.4245 - val_accuracy: 0.8497\n",
            "Epoch 21/30\n",
            "54000/54000 [==============================] - 2s 31us/sample - loss: 0.4145 - accuracy: 0.8567 - val_loss: 0.4202 - val_accuracy: 0.8505\n",
            "Epoch 22/30\n",
            "54000/54000 [==============================] - 2s 31us/sample - loss: 0.4112 - accuracy: 0.8583 - val_loss: 0.4160 - val_accuracy: 0.8517\n",
            "Epoch 23/30\n",
            "54000/54000 [==============================] - 2s 32us/sample - loss: 0.4078 - accuracy: 0.8592 - val_loss: 0.4135 - val_accuracy: 0.8540\n",
            "Epoch 24/30\n",
            "54000/54000 [==============================] - 2s 31us/sample - loss: 0.4054 - accuracy: 0.8594 - val_loss: 0.4123 - val_accuracy: 0.8537\n",
            "Epoch 25/30\n",
            "54000/54000 [==============================] - 2s 30us/sample - loss: 0.4023 - accuracy: 0.8616 - val_loss: 0.4157 - val_accuracy: 0.8518\n",
            "Epoch 26/30\n",
            "54000/54000 [==============================] - 2s 31us/sample - loss: 0.3996 - accuracy: 0.8620 - val_loss: 0.4118 - val_accuracy: 0.8548\n",
            "Epoch 27/30\n",
            "54000/54000 [==============================] - 2s 31us/sample - loss: 0.3970 - accuracy: 0.8631 - val_loss: 0.4049 - val_accuracy: 0.8565\n",
            "Epoch 28/30\n",
            "54000/54000 [==============================] - 2s 31us/sample - loss: 0.3943 - accuracy: 0.8641 - val_loss: 0.4039 - val_accuracy: 0.8538\n",
            "Epoch 29/30\n",
            "54000/54000 [==============================] - 2s 31us/sample - loss: 0.3920 - accuracy: 0.8646 - val_loss: 0.4061 - val_accuracy: 0.8563\n",
            "Epoch 30/30\n",
            "54000/54000 [==============================] - 2s 32us/sample - loss: 0.3895 - accuracy: 0.8647 - val_loss: 0.4006 - val_accuracy: 0.8583\n"
          ],
          "name": "stdout"
        }
      ]
    },
    {
      "cell_type": "code",
      "metadata": {
        "id": "2QSZQl2DGStG",
        "colab_type": "code",
        "colab": {}
      },
      "source": [
        "import pandas as pd\n",
        "import matplotlib.pyplot as plt"
      ],
      "execution_count": 0,
      "outputs": []
    },
    {
      "cell_type": "code",
      "metadata": {
        "id": "UDJTLkMXKUU3",
        "colab_type": "code",
        "outputId": "38498145-cbc0-4ac3-a5e4-1f6d951463ba",
        "colab": {
          "base_uri": "https://localhost:8080/",
          "height": 204
        }
      },
      "source": [
        "df=pd.DataFrame(history.history)\n",
        "df.head()"
      ],
      "execution_count": 13,
      "outputs": [
        {
          "output_type": "execute_result",
          "data": {
            "text/html": [
              "<div>\n",
              "<style scoped>\n",
              "    .dataframe tbody tr th:only-of-type {\n",
              "        vertical-align: middle;\n",
              "    }\n",
              "\n",
              "    .dataframe tbody tr th {\n",
              "        vertical-align: top;\n",
              "    }\n",
              "\n",
              "    .dataframe thead th {\n",
              "        text-align: right;\n",
              "    }\n",
              "</style>\n",
              "<table border=\"1\" class=\"dataframe\">\n",
              "  <thead>\n",
              "    <tr style=\"text-align: right;\">\n",
              "      <th></th>\n",
              "      <th>loss</th>\n",
              "      <th>accuracy</th>\n",
              "      <th>val_loss</th>\n",
              "      <th>val_accuracy</th>\n",
              "    </tr>\n",
              "  </thead>\n",
              "  <tbody>\n",
              "    <tr>\n",
              "      <th>0</th>\n",
              "      <td>1.092454</td>\n",
              "      <td>0.664537</td>\n",
              "      <td>0.759801</td>\n",
              "      <td>0.748667</td>\n",
              "    </tr>\n",
              "    <tr>\n",
              "      <th>1</th>\n",
              "      <td>0.701767</td>\n",
              "      <td>0.767778</td>\n",
              "      <td>0.640450</td>\n",
              "      <td>0.785833</td>\n",
              "    </tr>\n",
              "    <tr>\n",
              "      <th>2</th>\n",
              "      <td>0.617166</td>\n",
              "      <td>0.795815</td>\n",
              "      <td>0.584675</td>\n",
              "      <td>0.801667</td>\n",
              "    </tr>\n",
              "    <tr>\n",
              "      <th>3</th>\n",
              "      <td>0.570899</td>\n",
              "      <td>0.810389</td>\n",
              "      <td>0.547606</td>\n",
              "      <td>0.815667</td>\n",
              "    </tr>\n",
              "    <tr>\n",
              "      <th>4</th>\n",
              "      <td>0.541043</td>\n",
              "      <td>0.820500</td>\n",
              "      <td>0.525063</td>\n",
              "      <td>0.823500</td>\n",
              "    </tr>\n",
              "  </tbody>\n",
              "</table>\n",
              "</div>"
            ],
            "text/plain": [
              "       loss  accuracy  val_loss  val_accuracy\n",
              "0  1.092454  0.664537  0.759801      0.748667\n",
              "1  0.701767  0.767778  0.640450      0.785833\n",
              "2  0.617166  0.795815  0.584675      0.801667\n",
              "3  0.570899  0.810389  0.547606      0.815667\n",
              "4  0.541043  0.820500  0.525063      0.823500"
            ]
          },
          "metadata": {
            "tags": []
          },
          "execution_count": 13
        }
      ]
    },
    {
      "cell_type": "code",
      "metadata": {
        "id": "9C3C2j9wKgY4",
        "colab_type": "code",
        "outputId": "f59b06f6-2f12-48f5-f0fe-5880618e6133",
        "colab": {
          "base_uri": "https://localhost:8080/",
          "height": 324
        }
      },
      "source": [
        "df.plot(figsize=(7,5))\n",
        "plt.grid(True)\n",
        "plt.gca().set_ylim(0,1)\n",
        "plt.show()"
      ],
      "execution_count": 14,
      "outputs": [
        {
          "output_type": "display_data",
          "data": {
            "image/png": "[encoded data removed]",
            "text/plain": [
              "<Figure size 504x360 with 1 Axes>"
            ]
          },
          "metadata": {
            "tags": []
          }
        }
      ]
    },
    {
      "cell_type": "code",
      "metadata": {
        "id": "YJRKEOPLKupM",
        "colab_type": "code",
        "colab": {}
      },
      "source": [
        "input1 = keras.layers.Input(shape=x_train.shape[1:])\n",
        "flatten1 = keras.layers.Flatten()(input1)\n",
        "hidden1 = keras.layers.Dense(100,activation=\"relu\")(flatten1)\n",
        "hidden2 = keras.layers.Dense(50,activation=\"relu\")(hidden1)\n",
        "output1 = keras.layers.Dense(len(class_names),activation=\"softmax\")(hidden2)\n",
        "model2 = keras.Model(inputs=input1,outputs=output1)"
      ],
      "execution_count": 0,
      "outputs": []
    },
    {
      "cell_type": "code",
      "metadata": {
        "id": "3_ttauhsNtwI",
        "colab_type": "code",
        "colab": {}
      },
      "source": [
        "model2.compile(optimizer='sgd',loss=\"sparse_categorical_crossentropy\",metrics=[\"accuracy\"],)"
      ],
      "execution_count": 0,
      "outputs": []
    },
    {
      "cell_type": "code",
      "metadata": {
        "id": "JKG0bWFVNyZn",
        "colab_type": "code",
        "colab": {
          "base_uri": "https://localhost:8080/",
          "height": 1000
        },
        "outputId": "3a4c33e9-fb26-4f64-9b08-cf49ba9386b3"
      },
      "source": [
        "history2 = model2.fit(x_train,y_train,batch_size=128,epochs=30,validation_split=0.1)"
      ],
      "execution_count": 19,
      "outputs": [
        {
          "output_type": "stream",
          "text": [
            "Train on 54000 samples, validate on 6000 samples\n",
            "Epoch 1/30\n",
            "54000/54000 [==============================] - 2s 43us/sample - loss: 1.2290 - accuracy: 0.6343 - val_loss: 0.7628 - val_accuracy: 0.7513\n",
            "Epoch 2/30\n",
            "54000/54000 [==============================] - 2s 32us/sample - loss: 0.6912 - accuracy: 0.7680 - val_loss: 0.6284 - val_accuracy: 0.7820\n",
            "Epoch 3/30\n",
            "54000/54000 [==============================] - 2s 34us/sample - loss: 0.6016 - accuracy: 0.7957 - val_loss: 0.5702 - val_accuracy: 0.8003\n",
            "Epoch 4/30\n",
            "54000/54000 [==============================] - 2s 33us/sample - loss: 0.5558 - accuracy: 0.8096 - val_loss: 0.5421 - val_accuracy: 0.8095\n",
            "Epoch 5/30\n",
            "54000/54000 [==============================] - 2s 33us/sample - loss: 0.5243 - accuracy: 0.8194 - val_loss: 0.5198 - val_accuracy: 0.8130\n",
            "Epoch 6/30\n",
            "54000/54000 [==============================] - 2s 32us/sample - loss: 0.5036 - accuracy: 0.8261 - val_loss: 0.4983 - val_accuracy: 0.8230\n",
            "Epoch 7/30\n",
            "54000/54000 [==============================] - 2s 33us/sample - loss: 0.4861 - accuracy: 0.8319 - val_loss: 0.4818 - val_accuracy: 0.8273\n",
            "Epoch 8/30\n",
            "54000/54000 [==============================] - 2s 33us/sample - loss: 0.4722 - accuracy: 0.8366 - val_loss: 0.4702 - val_accuracy: 0.8312\n",
            "Epoch 9/30\n",
            "54000/54000 [==============================] - 2s 33us/sample - loss: 0.4618 - accuracy: 0.8396 - val_loss: 0.4604 - val_accuracy: 0.8362\n",
            "Epoch 10/30\n",
            "54000/54000 [==============================] - 2s 34us/sample - loss: 0.4510 - accuracy: 0.8427 - val_loss: 0.4524 - val_accuracy: 0.8378\n",
            "Epoch 11/30\n",
            "54000/54000 [==============================] - 2s 34us/sample - loss: 0.4433 - accuracy: 0.8456 - val_loss: 0.4469 - val_accuracy: 0.8372\n",
            "Epoch 12/30\n",
            "54000/54000 [==============================] - 2s 33us/sample - loss: 0.4369 - accuracy: 0.8486 - val_loss: 0.4337 - val_accuracy: 0.8453\n",
            "Epoch 13/30\n",
            "54000/54000 [==============================] - 2s 34us/sample - loss: 0.4291 - accuracy: 0.8503 - val_loss: 0.4315 - val_accuracy: 0.8472\n",
            "Epoch 14/30\n",
            "54000/54000 [==============================] - 2s 37us/sample - loss: 0.4234 - accuracy: 0.8535 - val_loss: 0.4283 - val_accuracy: 0.8430\n",
            "Epoch 15/30\n",
            "54000/54000 [==============================] - 2s 37us/sample - loss: 0.4182 - accuracy: 0.8550 - val_loss: 0.4252 - val_accuracy: 0.8482\n",
            "Epoch 16/30\n",
            "54000/54000 [==============================] - 2s 36us/sample - loss: 0.4119 - accuracy: 0.8575 - val_loss: 0.4236 - val_accuracy: 0.8488\n",
            "Epoch 17/30\n",
            "54000/54000 [==============================] - 2s 36us/sample - loss: 0.4076 - accuracy: 0.8588 - val_loss: 0.4174 - val_accuracy: 0.8467\n",
            "Epoch 18/30\n",
            "54000/54000 [==============================] - 2s 35us/sample - loss: 0.4031 - accuracy: 0.8606 - val_loss: 0.4191 - val_accuracy: 0.8480\n",
            "Epoch 19/30\n",
            "54000/54000 [==============================] - 2s 33us/sample - loss: 0.3983 - accuracy: 0.8619 - val_loss: 0.4213 - val_accuracy: 0.8495\n",
            "Epoch 20/30\n",
            "54000/54000 [==============================] - 2s 34us/sample - loss: 0.3953 - accuracy: 0.8630 - val_loss: 0.4019 - val_accuracy: 0.8543\n",
            "Epoch 21/30\n",
            "54000/54000 [==============================] - 2s 33us/sample - loss: 0.3903 - accuracy: 0.8653 - val_loss: 0.4020 - val_accuracy: 0.8533\n",
            "Epoch 22/30\n",
            "54000/54000 [==============================] - 2s 33us/sample - loss: 0.3873 - accuracy: 0.8661 - val_loss: 0.4095 - val_accuracy: 0.8495\n",
            "Epoch 23/30\n",
            "54000/54000 [==============================] - 2s 34us/sample - loss: 0.3830 - accuracy: 0.8671 - val_loss: 0.3996 - val_accuracy: 0.8540\n",
            "Epoch 24/30\n",
            "54000/54000 [==============================] - 2s 33us/sample - loss: 0.3798 - accuracy: 0.8683 - val_loss: 0.3874 - val_accuracy: 0.8600\n",
            "Epoch 25/30\n",
            "54000/54000 [==============================] - 2s 33us/sample - loss: 0.3766 - accuracy: 0.8691 - val_loss: 0.4039 - val_accuracy: 0.8535\n",
            "Epoch 26/30\n",
            "54000/54000 [==============================] - 2s 34us/sample - loss: 0.3726 - accuracy: 0.8707 - val_loss: 0.3948 - val_accuracy: 0.8590\n",
            "Epoch 27/30\n",
            "54000/54000 [==============================] - 2s 33us/sample - loss: 0.3701 - accuracy: 0.8722 - val_loss: 0.3885 - val_accuracy: 0.8592\n",
            "Epoch 28/30\n",
            "54000/54000 [==============================] - 2s 34us/sample - loss: 0.3679 - accuracy: 0.8720 - val_loss: 0.3797 - val_accuracy: 0.8623\n",
            "Epoch 29/30\n",
            "54000/54000 [==============================] - 2s 33us/sample - loss: 0.3662 - accuracy: 0.8736 - val_loss: 0.3820 - val_accuracy: 0.8625\n",
            "Epoch 30/30\n",
            "54000/54000 [==============================] - 2s 34us/sample - loss: 0.3621 - accuracy: 0.8736 - val_loss: 0.3797 - val_accuracy: 0.8618\n"
          ],
          "name": "stdout"
        }
      ]
    }
  ]
}