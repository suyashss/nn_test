{
  "nbformat": 4,
  "nbformat_minor": 0,
  "metadata": {
    "colab": {
      "name": "CNN_test.ipynb",
      "version": "0.3.2",
      "provenance": [],
      "collapsed_sections": [],
      "include_colab_link": true
    },
    "kernelspec": {
      "name": "python3",
      "display_name": "Python 3"
    },
    "accelerator": "GPU"
  },
  "cells": [
    {
      "cell_type": "markdown",
      "metadata": {
        "id": "view-in-github",
        "colab_type": "text"
      },
      "source": [
        "<a href=\"https://colab.research.google.com/github/suyashss/nn_test/blob/master/CNN_test_v2.ipynb\" target=\"_parent\"><img src=\"https://colab.research.google.com/assets/colab-badge.svg\" alt=\"Open In Colab\"/></a>"
      ]
    },
    {
      "metadata": {
        "id": "ruqy1-MQGChk",
        "colab_type": "code",
        "colab": {}
      },
      "cell_type": "code",
      "source": [
        "!mkdir -p data"
      ],
      "execution_count": 0,
      "outputs": []
    },
    {
      "metadata": {
        "id": "YjzbFq1-Gz3Y",
        "colab_type": "code",
        "colab": {}
      },
      "cell_type": "code",
      "source": [
        "classes=['book','ladder','eyeglasses']"
      ],
      "execution_count": 0,
      "outputs": []
    },
    {
      "metadata": {
        "id": "88SeIB7lGy2p",
        "colab_type": "code",
        "colab": {}
      },
      "cell_type": "code",
      "source": [
        "import urllib.request\n",
        "def download():\n",
        "  \n",
        "  base = 'https://storage.googleapis.com/quickdraw_dataset/full/numpy_bitmap/'\n",
        "  for c in classes:\n",
        "    cls_url = c.replace('_', '%20')\n",
        "    path = base+cls_url+'.npy'\n",
        "    print(path)\n",
        "    urllib.request.urlretrieve(path, 'data/'+c+'.npy')"
      ],
      "execution_count": 0,
      "outputs": []
    },
    {
      "metadata": {
        "id": "f7e_S_4zG8-_",
        "colab_type": "code",
        "outputId": "c5df7119-7966-476f-e03a-40d59c5bbde8",
        "colab": {
          "base_uri": "https://localhost:8080/",
          "height": 68
        }
      },
      "cell_type": "code",
      "source": [
        "download()"
      ],
      "execution_count": 15,
      "outputs": [
        {
          "output_type": "stream",
          "text": [
            "https://storage.googleapis.com/quickdraw_dataset/full/numpy_bitmap/book.npy\n",
            "https://storage.googleapis.com/quickdraw_dataset/full/numpy_bitmap/ladder.npy\n",
            "https://storage.googleapis.com/quickdraw_dataset/full/numpy_bitmap/eyeglasses.npy\n"
          ],
          "name": "stdout"
        }
      ]
    },
    {
      "metadata": {
        "id": "Yp2BTaNPHCQF",
        "colab_type": "code",
        "colab": {}
      },
      "cell_type": "code",
      "source": [
        "import os\n",
        "import glob\n",
        "import numpy as np\n",
        "from tensorflow.keras import layers\n",
        "from tensorflow import keras \n",
        "import tensorflow as tf"
      ],
      "execution_count": 0,
      "outputs": []
    },
    {
      "metadata": {
        "id": "KU23DlbaHFOe",
        "colab_type": "code",
        "colab": {}
      },
      "cell_type": "code",
      "source": [
        "def load_data(root, vfold_ratio=0.2, max_items_per_class= 4000 ):\n",
        "    all_files = glob.glob(os.path.join(root, '*.npy'))\n",
        "\n",
        "    #initialize variables \n",
        "    x = np.empty([0, 784])\n",
        "    y = np.empty([0])\n",
        "    class_names = []\n",
        "\n",
        "    #load each data file \n",
        "    for idx, file in enumerate(all_files):\n",
        "        data = np.load(file)\n",
        "        data = data[0: max_items_per_class, :]\n",
        "        labels = np.full(data.shape[0], idx)\n",
        "\n",
        "        x = np.concatenate((x, data), axis=0)\n",
        "        y = np.append(y, labels)\n",
        "\n",
        "        class_name, ext = os.path.splitext(os.path.basename(file))\n",
        "        class_names.append(class_name)\n",
        "\n",
        "    data = None\n",
        "    labels = None\n",
        "    \n",
        "    #randomize the dataset \n",
        "    permutation = np.random.permutation(y.shape[0])\n",
        "    x = x[permutation, :]\n",
        "    y = y[permutation]\n",
        "\n",
        "    #separate into training and testing \n",
        "    vfold_size = int(x.shape[0]/100*(vfold_ratio*100))\n",
        "\n",
        "    x_test = x[0:vfold_size, :]\n",
        "    y_test = y[0:vfold_size]\n",
        "\n",
        "    x_train = x[vfold_size:x.shape[0], :]\n",
        "    y_train = y[vfold_size:y.shape[0]]\n",
        "    return x_train, y_train, x_test, y_test, class_names"
      ],
      "execution_count": 0,
      "outputs": []
    },
    {
      "metadata": {
        "id": "KFcsN_07HKsr",
        "colab_type": "code",
        "colab": {}
      },
      "cell_type": "code",
      "source": [
        "x_train, y_train, x_test, y_test, class_names = load_data('data')\n",
        "num_classes = len(class_names)\n",
        "image_size = 28"
      ],
      "execution_count": 0,
      "outputs": []
    },
    {
      "metadata": {
        "id": "MjMMoQh4HkKG",
        "colab_type": "code",
        "outputId": "b402cd9e-7b6a-4a7b-c81f-401564799dac",
        "colab": {
          "base_uri": "https://localhost:8080/",
          "height": 51
        }
      },
      "cell_type": "code",
      "source": [
        "print(x_train.shape)\n",
        "print(len(x_train[0]))"
      ],
      "execution_count": 19,
      "outputs": [
        {
          "output_type": "stream",
          "text": [
            "(9600, 784)\n",
            "784\n"
          ],
          "name": "stdout"
        }
      ]
    },
    {
      "metadata": {
        "id": "TqSicsVWHn2i",
        "colab_type": "code",
        "outputId": "baa3bd58-0dee-4825-9dac-b264e20036a7",
        "colab": {
          "base_uri": "https://localhost:8080/",
          "height": 282
        }
      },
      "cell_type": "code",
      "source": [
        "import matplotlib.pyplot as plt\n",
        "from random import randint\n",
        "%matplotlib inline  \n",
        "idx = randint(0, len(x_train))\n",
        "plt.imshow(x_train[idx].reshape(28,28)) \n",
        "print(class_names[int(y_train[idx].item())])"
      ],
      "execution_count": 20,
      "outputs": [
        {
          "output_type": "stream",
          "text": [
            "eyeglasses\n"
          ],
          "name": "stdout"
        },
        {
          "output_type": "display_data",
          "data": {
            "image/png": "[encoded data removed]",
            "text/plain": [
              "<Figure size 432x288 with 1 Axes>"
            ]
          },
          "metadata": {
            "tags": []
          }
        }
      ]
    },
    {
      "metadata": {
        "id": "vBt_xTJ7Hyq0",
        "colab_type": "code",
        "colab": {}
      },
      "cell_type": "code",
      "source": [
        "# Reshape and normalize\n",
        "x_train = x_train.reshape(x_train.shape[0], image_size, image_size, 1).astype('float32')\n",
        "x_test = x_test.reshape(x_test.shape[0], image_size, image_size, 1).astype('float32')\n",
        "\n",
        "x_train /= 255.0\n",
        "x_test /= 255.0\n",
        "\n",
        "# Convert class vectors to class matrices\n",
        "y_train = keras.utils.to_categorical(y_train, num_classes)\n",
        "y_test = keras.utils.to_categorical(y_test, num_classes)"
      ],
      "execution_count": 0,
      "outputs": []
    },
    {
      "metadata": {
        "id": "0F42HZfCoHTU",
        "colab_type": "code",
        "colab": {
          "base_uri": "https://localhost:8080/",
          "height": 102
        },
        "outputId": "1ad72fd2-0b3b-42c9-8d48-078e791e15b5"
      },
      "cell_type": "code",
      "source": [
        "print(keras.utils.to_categorical([4,1,2,0,3],5))"
      ],
      "execution_count": 27,
      "outputs": [
        {
          "output_type": "stream",
          "text": [
            "[[0. 0. 0. 0. 1.]\n",
            " [0. 1. 0. 0. 0.]\n",
            " [0. 0. 1. 0. 0.]\n",
            " [1. 0. 0. 0. 0.]\n",
            " [0. 0. 0. 1. 0.]]\n"
          ],
          "name": "stdout"
        }
      ]
    },
    {
      "metadata": {
        "id": "OKmzRzpNITmz",
        "colab_type": "code",
        "outputId": "b69ea62e-3493-4418-f304-0b9c9c9c0909",
        "colab": {
          "base_uri": "https://localhost:8080/",
          "height": 34
        }
      },
      "cell_type": "code",
      "source": [
        "print(y_train.shape)"
      ],
      "execution_count": 22,
      "outputs": [
        {
          "output_type": "stream",
          "text": [
            "(9600, 3)\n"
          ],
          "name": "stdout"
        }
      ]
    },
    {
      "metadata": {
        "id": "1GF5D_1YIWlY",
        "colab_type": "code",
        "outputId": "a3439c48-1d39-4e7b-8645-39252f5c011a",
        "colab": {
          "base_uri": "https://localhost:8080/",
          "height": 187
        }
      },
      "cell_type": "code",
      "source": [
        "print(y_train[:10,:])"
      ],
      "execution_count": 23,
      "outputs": [
        {
          "output_type": "stream",
          "text": [
            "[[1. 0. 0.]\n",
            " [1. 0. 0.]\n",
            " [1. 0. 0.]\n",
            " [0. 1. 0.]\n",
            " [0. 0. 1.]\n",
            " [0. 1. 0.]\n",
            " [1. 0. 0.]\n",
            " [0. 0. 1.]\n",
            " [1. 0. 0.]\n",
            " [0. 1. 0.]]\n"
          ],
          "name": "stdout"
        }
      ]
    },
    {
      "metadata": {
        "id": "kzQuwSbxJjcy",
        "colab_type": "code",
        "outputId": "dcee01d8-2aa5-4853-aa8c-d389128c5b70",
        "colab": {
          "base_uri": "https://localhost:8080/",
          "height": 391
        }
      },
      "cell_type": "code",
      "source": [
        "model = keras.Sequential()\n",
        "model.add(layers.Convolution2D(8, (3, 3), padding='same', activation= 'relu',input_shape=x_train.shape[1:]))\n",
        "model.add(layers.MaxPooling2D(pool_size=(2, 2)))\n",
        "model.add(layers.Convolution2D(8, (3, 3), padding='same', activation= 'relu'))\n",
        "model.add(layers.MaxPooling2D(pool_size=(2, 2)))\n",
        "model.add(layers.Flatten())\n",
        "model.add(layers.Dense(5, activation='relu'))\n",
        "model.add(layers.Dense(len(classes), activation='softmax')) \n",
        "# Train model\n",
        "adam = tf.train.AdamOptimizer()\n",
        "model.compile(loss='categorical_crossentropy',\n",
        "              optimizer=adam,\n",
        "              metrics=['top_k_categorical_accuracy'])\n",
        "print(model.summary())"
      ],
      "execution_count": 41,
      "outputs": [
        {
          "output_type": "stream",
          "text": [
            "_________________________________________________________________\n",
            "Layer (type)                 Output Shape              Param #   \n",
            "=================================================================\n",
            "conv2d_8 (Conv2D)            (None, 28, 28, 8)         80        \n",
            "_________________________________________________________________\n",
            "max_pooling2d_8 (MaxPooling2 (None, 14, 14, 8)         0         \n",
            "_________________________________________________________________\n",
            "conv2d_9 (Conv2D)            (None, 14, 14, 8)         584       \n",
            "_________________________________________________________________\n",
            "max_pooling2d_9 (MaxPooling2 (None, 7, 7, 8)           0         \n",
            "_________________________________________________________________\n",
            "flatten_4 (Flatten)          (None, 392)               0         \n",
            "_________________________________________________________________\n",
            "dense_8 (Dense)              (None, 5)                 1965      \n",
            "_________________________________________________________________\n",
            "dense_9 (Dense)              (None, 3)                 18        \n",
            "=================================================================\n",
            "Total params: 2,647\n",
            "Trainable params: 2,647\n",
            "Non-trainable params: 0\n",
            "_________________________________________________________________\n",
            "None\n"
          ],
          "name": "stdout"
        }
      ]
    },
    {
      "metadata": {
        "id": "DpyO3D6UKWtX",
        "colab_type": "code",
        "outputId": "91a44fdb-51e6-41b6-8998-5eaaf433383c",
        "colab": {
          "base_uri": "https://localhost:8080/",
          "height": 884
        }
      },
      "cell_type": "code",
      "source": [
        "history = model.fit(x = x_train, y = y_train, validation_split=0.1, batch_size = 256, verbose=2, epochs=25)"
      ],
      "execution_count": 43,
      "outputs": [
        {
          "output_type": "stream",
          "text": [
            "Train on 8640 samples, validate on 960 samples\n",
            "Epoch 1/25\n",
            " - 0s - loss: 0.1781 - top_k_categorical_accuracy: 1.0000 - val_loss: 0.1827 - val_top_k_categorical_accuracy: 1.0000\n",
            "Epoch 2/25\n",
            " - 0s - loss: 0.1711 - top_k_categorical_accuracy: 1.0000 - val_loss: 0.1758 - val_top_k_categorical_accuracy: 1.0000\n",
            "Epoch 3/25\n",
            " - 0s - loss: 0.1679 - top_k_categorical_accuracy: 1.0000 - val_loss: 0.1713 - val_top_k_categorical_accuracy: 1.0000\n",
            "Epoch 4/25\n",
            " - 0s - loss: 0.1619 - top_k_categorical_accuracy: 1.0000 - val_loss: 0.1679 - val_top_k_categorical_accuracy: 1.0000\n",
            "Epoch 5/25\n",
            " - 0s - loss: 0.1576 - top_k_categorical_accuracy: 1.0000 - val_loss: 0.1648 - val_top_k_categorical_accuracy: 1.0000\n",
            "Epoch 6/25\n",
            " - 0s - loss: 0.1539 - top_k_categorical_accuracy: 1.0000 - val_loss: 0.1590 - val_top_k_categorical_accuracy: 1.0000\n",
            "Epoch 7/25\n",
            " - 0s - loss: 0.1486 - top_k_categorical_accuracy: 1.0000 - val_loss: 0.1568 - val_top_k_categorical_accuracy: 1.0000\n",
            "Epoch 8/25\n",
            " - 0s - loss: 0.1443 - top_k_categorical_accuracy: 1.0000 - val_loss: 0.1524 - val_top_k_categorical_accuracy: 1.0000\n",
            "Epoch 9/25\n",
            " - 0s - loss: 0.1403 - top_k_categorical_accuracy: 1.0000 - val_loss: 0.1499 - val_top_k_categorical_accuracy: 1.0000\n",
            "Epoch 10/25\n",
            " - 0s - loss: 0.1397 - top_k_categorical_accuracy: 1.0000 - val_loss: 0.1483 - val_top_k_categorical_accuracy: 1.0000\n",
            "Epoch 11/25\n",
            " - 0s - loss: 0.1339 - top_k_categorical_accuracy: 1.0000 - val_loss: 0.1438 - val_top_k_categorical_accuracy: 1.0000\n",
            "Epoch 12/25\n",
            " - 0s - loss: 0.1342 - top_k_categorical_accuracy: 1.0000 - val_loss: 0.1462 - val_top_k_categorical_accuracy: 1.0000\n",
            "Epoch 13/25\n",
            " - 0s - loss: 0.1288 - top_k_categorical_accuracy: 1.0000 - val_loss: 0.1444 - val_top_k_categorical_accuracy: 1.0000\n",
            "Epoch 14/25\n",
            " - 0s - loss: 0.1236 - top_k_categorical_accuracy: 1.0000 - val_loss: 0.1360 - val_top_k_categorical_accuracy: 1.0000\n",
            "Epoch 15/25\n",
            " - 0s - loss: 0.1202 - top_k_categorical_accuracy: 1.0000 - val_loss: 0.1334 - val_top_k_categorical_accuracy: 1.0000\n",
            "Epoch 16/25\n",
            " - 0s - loss: 0.1189 - top_k_categorical_accuracy: 1.0000 - val_loss: 0.1363 - val_top_k_categorical_accuracy: 1.0000\n",
            "Epoch 17/25\n",
            " - 0s - loss: 0.1154 - top_k_categorical_accuracy: 1.0000 - val_loss: 0.1296 - val_top_k_categorical_accuracy: 1.0000\n",
            "Epoch 18/25\n",
            " - 0s - loss: 0.1119 - top_k_categorical_accuracy: 1.0000 - val_loss: 0.1281 - val_top_k_categorical_accuracy: 1.0000\n",
            "Epoch 19/25\n",
            " - 0s - loss: 0.1113 - top_k_categorical_accuracy: 1.0000 - val_loss: 0.1268 - val_top_k_categorical_accuracy: 1.0000\n",
            "Epoch 20/25\n",
            " - 0s - loss: 0.1072 - top_k_categorical_accuracy: 1.0000 - val_loss: 0.1242 - val_top_k_categorical_accuracy: 1.0000\n",
            "Epoch 21/25\n",
            " - 0s - loss: 0.1051 - top_k_categorical_accuracy: 1.0000 - val_loss: 0.1227 - val_top_k_categorical_accuracy: 1.0000\n",
            "Epoch 22/25\n",
            " - 0s - loss: 0.1055 - top_k_categorical_accuracy: 1.0000 - val_loss: 0.1198 - val_top_k_categorical_accuracy: 1.0000\n",
            "Epoch 23/25\n",
            " - 0s - loss: 0.1011 - top_k_categorical_accuracy: 1.0000 - val_loss: 0.1205 - val_top_k_categorical_accuracy: 1.0000\n",
            "Epoch 24/25\n",
            " - 0s - loss: 0.0979 - top_k_categorical_accuracy: 1.0000 - val_loss: 0.1190 - val_top_k_categorical_accuracy: 1.0000\n",
            "Epoch 25/25\n",
            " - 0s - loss: 0.0956 - top_k_categorical_accuracy: 1.0000 - val_loss: 0.1181 - val_top_k_categorical_accuracy: 1.0000\n"
          ],
          "name": "stdout"
        }
      ]
    },
    {
      "metadata": {
        "id": "OeczLgq2r7VT",
        "colab_type": "code",
        "colab": {}
      },
      "cell_type": "code",
      "source": [
        "history.history.keys()"
      ],
      "execution_count": 0,
      "outputs": []
    },
    {
      "metadata": {
        "id": "cyP2-6serx_7",
        "colab_type": "code",
        "colab": {
          "base_uri": "https://localhost:8080/",
          "height": 294
        },
        "outputId": "4acf5eb0-420b-42bf-a5ad-4c70ec8bd6b4"
      },
      "cell_type": "code",
      "source": [
        "# Plot training & validation accuracy values\n",
        "plt.plot(history.history['top_k_categorical_accuracy'])\n",
        "plt.plot(history.history['val_top_k_categorical_accuracy'])\n",
        "plt.title('Model accuracy')\n",
        "plt.ylabel('Accuracy')\n",
        "plt.xlabel('Epoch')\n",
        "plt.legend(['Train', 'Test'], loc='upper left')\n",
        "plt.show()"
      ],
      "execution_count": 44,
      "outputs": [
        {
          "output_type": "display_data",
          "data": {
            "image/png": "[encoded data removed]",
            "text/plain": [
              "<Figure size 432x288 with 1 Axes>"
            ]
          },
          "metadata": {
            "tags": []
          }
        }
      ]
    },
    {
      "metadata": {
        "id": "mbSv9KsesIu8",
        "colab_type": "code",
        "colab": {
          "base_uri": "https://localhost:8080/",
          "height": 294
        },
        "outputId": "b90d2717-5501-4bae-cb74-f62aeed7e994"
      },
      "cell_type": "code",
      "source": [
        "# Plot training & validation loss values\n",
        "plt.plot(history.history['loss'])\n",
        "plt.plot(history.history['val_loss'])\n",
        "plt.title('Model loss')\n",
        "plt.ylabel('Loss')\n",
        "plt.xlabel('Epoch')\n",
        "plt.legend(['Train', 'Test'], loc='upper left')\n",
        "plt.show()"
      ],
      "execution_count": 45,
      "outputs": [
        {
          "output_type": "display_data",
          "data": {
            "image/png": "[encoded data removed]",
            "text/plain": [
              "<Figure size 432x288 with 1 Axes>"
            ]
          },
          "metadata": {
            "tags": []
          }
        }
      ]
    },
    {
      "metadata": {
        "id": "ylBlFpFLL9aJ",
        "colab_type": "code",
        "outputId": "f52afebd-c4f4-4b5b-97dd-bab81ac7f6d4",
        "colab": {
          "base_uri": "https://localhost:8080/",
          "height": 34
        }
      },
      "cell_type": "code",
      "source": [
        "score = model.evaluate(x_test, y_test[np.random.permutation(y_test.shape[0])], verbose=0)\n",
        "print('Test accuarcy: {:0.2f}%'.format(score[1] * 100))"
      ],
      "execution_count": 57,
      "outputs": [
        {
          "output_type": "stream",
          "text": [
            "Test accuarcy: 100.00%\n"
          ],
          "name": "stdout"
        }
      ]
    },
    {
      "metadata": {
        "id": "9ZEZ2mGTvRHD",
        "colab_type": "code",
        "colab": {
          "base_uri": "https://localhost:8080/",
          "height": 34
        },
        "outputId": "d1e1f7eb-70ba-41f3-8ae3-1aeac37bc27e"
      },
      "cell_type": "code",
      "source": [
        "model.metrics_names"
      ],
      "execution_count": 68,
      "outputs": [
        {
          "output_type": "execute_result",
          "data": {
            "text/plain": [
              "['loss', 'top_k_categorical_accuracy']"
            ]
          },
          "metadata": {
            "tags": []
          },
          "execution_count": 68
        }
      ]
    },
    {
      "metadata": {
        "id": "08-kbpSKs26V",
        "colab_type": "code",
        "colab": {
          "base_uri": "https://localhost:8080/",
          "height": 34
        },
        "outputId": "e33d4cfc-c792-4755-d704-c243f5286c69"
      },
      "cell_type": "code",
      "source": [
        "np.random.permutation(y_test.shape[0])"
      ],
      "execution_count": 58,
      "outputs": [
        {
          "output_type": "execute_result",
          "data": {
            "text/plain": [
              "array([1692, 1194, 1436, ..., 1158, 1308, 2114])"
            ]
          },
          "metadata": {
            "tags": []
          },
          "execution_count": 58
        }
      ]
    },
    {
      "metadata": {
        "id": "u3nEhBZks-0b",
        "colab_type": "code",
        "colab": {
          "base_uri": "https://localhost:8080/",
          "height": 102
        },
        "outputId": "b6ae7cca-27b6-4e50-9ffb-61c9f31fa702"
      },
      "cell_type": "code",
      "source": [
        "print(y_test[:5,])"
      ],
      "execution_count": 59,
      "outputs": [
        {
          "output_type": "stream",
          "text": [
            "[[0. 1. 0.]\n",
            " [1. 0. 0.]\n",
            " [0. 0. 1.]\n",
            " [1. 0. 0.]\n",
            " [0. 0. 1.]]\n"
          ],
          "name": "stdout"
        }
      ]
    },
    {
      "metadata": {
        "id": "kvyTMOCqtrnm",
        "colab_type": "code",
        "colab": {
          "base_uri": "https://localhost:8080/",
          "height": 102
        },
        "outputId": "23ee4f54-a6e7-454c-8111-b83ccc7caf67"
      },
      "cell_type": "code",
      "source": [
        "print(y_test[np.random.permutation(y_test.shape[0])][:5,])"
      ],
      "execution_count": 60,
      "outputs": [
        {
          "output_type": "stream",
          "text": [
            "[[0. 0. 1.]\n",
            " [0. 1. 0.]\n",
            " [1. 0. 0.]\n",
            " [1. 0. 0.]\n",
            " [1. 0. 0.]]\n"
          ],
          "name": "stdout"
        }
      ]
    },
    {
      "metadata": {
        "id": "_QyNgIabMFF8",
        "colab_type": "code",
        "outputId": "0aceff7f-b25c-4374-ba51-7ea00925985a",
        "colab": {
          "base_uri": "https://localhost:8080/",
          "height": 282
        }
      },
      "cell_type": "code",
      "source": [
        "import matplotlib.pyplot as plt\n",
        "from random import randint\n",
        "%matplotlib inline  \n",
        "idx = randint(0, len(x_test))\n",
        "img = x_test[idx]\n",
        "plt.imshow(img.squeeze()) \n",
        "pred = model.predict(np.expand_dims(img, axis=0))[0]\n",
        "ind = (-pred).argsort()[:2]\n",
        "latex = [class_names[x] for x in ind]\n",
        "print(latex)"
      ],
      "execution_count": 66,
      "outputs": [
        {
          "output_type": "stream",
          "text": [
            "['ladder', 'book']\n"
          ],
          "name": "stdout"
        },
        {
          "output_type": "display_data",
          "data": {
            "image/png": "[encoded data removed]",
            "text/plain": [
              "<Figure size 432x288 with 1 Axes>"
            ]
          },
          "metadata": {
            "tags": []
          }
        }
      ]
    },
    {
      "metadata": {
        "id": "Zo8Ca3MUunYE",
        "colab_type": "code",
        "colab": {
          "base_uri": "https://localhost:8080/",
          "height": 187
        },
        "outputId": "4c292839-d619-46fd-f187-bfe938233d32"
      },
      "cell_type": "code",
      "source": [
        "preds = model.predict(x_test)\n",
        "print(preds[:10,])"
      ],
      "execution_count": 67,
      "outputs": [
        {
          "output_type": "stream",
          "text": [
            "[[7.0308506e-02 8.5690778e-01 7.2783686e-02]\n",
            " [1.0000000e+00 3.8172132e-09 4.3437298e-10]\n",
            " [2.2597527e-05 4.3221709e-04 9.9954516e-01]\n",
            " [1.0000000e+00 8.0511586e-10 1.6592835e-11]\n",
            " [6.7736705e-06 1.3958284e-05 9.9997926e-01]\n",
            " [7.7073919e-03 5.9525114e-03 9.8634017e-01]\n",
            " [1.6461350e-05 5.0552744e-06 9.9997854e-01]\n",
            " [7.0308506e-02 8.5690778e-01 7.2783686e-02]\n",
            " [4.0788736e-02 1.7654233e-01 7.8266895e-01]\n",
            " [1.0000000e+00 1.1439120e-09 2.4135527e-11]]\n"
          ],
          "name": "stdout"
        }
      ]
    },
    {
      "metadata": {
        "id": "sV_c89E9vb4l",
        "colab_type": "code",
        "colab": {
          "base_uri": "https://localhost:8080/",
          "height": 187
        },
        "outputId": "b185c478-0ace-4be7-b647-277793f7e168"
      },
      "cell_type": "code",
      "source": [
        "print(y_test[:10,])"
      ],
      "execution_count": 69,
      "outputs": [
        {
          "output_type": "stream",
          "text": [
            "[[0. 1. 0.]\n",
            " [1. 0. 0.]\n",
            " [0. 0. 1.]\n",
            " [1. 0. 0.]\n",
            " [0. 0. 1.]\n",
            " [0. 0. 1.]\n",
            " [0. 0. 1.]\n",
            " [0. 1. 0.]\n",
            " [0. 0. 1.]\n",
            " [1. 0. 0.]]\n"
          ],
          "name": "stdout"
        }
      ]
    }
  ]
}